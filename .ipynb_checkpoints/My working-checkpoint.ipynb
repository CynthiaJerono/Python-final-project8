{
 "cells": [
  {
   "cell_type": "markdown",
   "id": "2eea0c29-7339-40c8-bb70-bfe28d19c069",
   "metadata": {},
   "source": [
    "\n"
   ]
  },
  {
   "cell_type": "code",
   "execution_count": 1,
   "id": "735e7ff7-b3de-4550-877f-4dda43c359c2",
   "metadata": {
    "scrolled": true
   },
   "outputs": [
    {
     "name": "stdout",
     "output_type": "stream",
     "text": [
      "Defaulting to user installation because normal site-packages is not writeable\n",
      "Requirement already satisfied: pandas in c:\\users\\cynthia\\appdata\\roaming\\python\\python313\\site-packages (2.3.2)\n",
      "Requirement already satisfied: numpy in c:\\users\\cynthia\\appdata\\roaming\\python\\python313\\site-packages (2.3.3)\n",
      "Requirement already satisfied: seaborn in c:\\users\\cynthia\\appdata\\roaming\\python\\python313\\site-packages (0.13.2)\n",
      "Requirement already satisfied: matplotlib in c:\\users\\cynthia\\appdata\\roaming\\python\\python313\\site-packages (3.10.6)\n",
      "Requirement already satisfied: python-dateutil>=2.8.2 in c:\\users\\cynthia\\appdata\\roaming\\python\\python313\\site-packages (from pandas) (2.9.0.post0)\n",
      "Requirement already satisfied: pytz>=2020.1 in c:\\users\\cynthia\\appdata\\roaming\\python\\python313\\site-packages (from pandas) (2025.2)\n",
      "Requirement already satisfied: tzdata>=2022.7 in c:\\users\\cynthia\\appdata\\roaming\\python\\python313\\site-packages (from pandas) (2025.2)\n",
      "Requirement already satisfied: contourpy>=1.0.1 in c:\\users\\cynthia\\appdata\\roaming\\python\\python313\\site-packages (from matplotlib) (1.3.3)\n",
      "Requirement already satisfied: cycler>=0.10 in c:\\users\\cynthia\\appdata\\roaming\\python\\python313\\site-packages (from matplotlib) (0.12.1)\n",
      "Requirement already satisfied: fonttools>=4.22.0 in c:\\users\\cynthia\\appdata\\roaming\\python\\python313\\site-packages (from matplotlib) (4.60.0)\n",
      "Requirement already satisfied: kiwisolver>=1.3.1 in c:\\users\\cynthia\\appdata\\roaming\\python\\python313\\site-packages (from matplotlib) (1.4.9)\n",
      "Requirement already satisfied: packaging>=20.0 in c:\\users\\cynthia\\appdata\\roaming\\python\\python313\\site-packages (from matplotlib) (25.0)\n",
      "Requirement already satisfied: pillow>=8 in c:\\users\\cynthia\\appdata\\roaming\\python\\python313\\site-packages (from matplotlib) (11.3.0)\n",
      "Requirement already satisfied: pyparsing>=2.3.1 in c:\\users\\cynthia\\appdata\\roaming\\python\\python313\\site-packages (from matplotlib) (3.2.5)\n",
      "Requirement already satisfied: six>=1.5 in c:\\users\\cynthia\\appdata\\roaming\\python\\python313\\site-packages (from python-dateutil>=2.8.2->pandas) (1.17.0)\n"
     ]
    },
    {
     "name": "stderr",
     "output_type": "stream",
     "text": [
      "\n",
      "[notice] A new release of pip is available: 25.1.1 -> 25.2\n",
      "[notice] To update, run: python.exe -m pip install --upgrade pip\n"
     ]
    }
   ],
   "source": [
    "!pip install pandas numpy seaborn matplotlib"
   ]
  },
  {
   "cell_type": "code",
   "execution_count": 2,
   "id": "f9c1327a-7a0b-40ea-a4f0-b7792c9ac408",
   "metadata": {},
   "outputs": [],
   "source": [
    "import pandas as pd\n",
    "import os \n",
    "import numpy as np  \n",
    "# plotting\n",
    "import matplotlib.pyplot as plt\n",
    "# nicer statistical plots\n",
    "import seaborn as sns     \n",
    "# shows matplotlib plots inside the notebook\n",
    "%matplotlib inline \n",
    "from datetime import datetime\n",
    "\n"
   ]
  },
  {
   "cell_type": "markdown",
   "id": "03fb76f7-a741-4996-9ae1-641aa1e5cc34",
   "metadata": {},
   "source": [
    "Step 2: Load Data and Basic Exploration"
   ]
  },
  {
   "cell_type": "code",
   "execution_count": 3,
   "id": "b4ba17dc-84fb-4d97-8fc0-701caa45dc2f",
   "metadata": {},
   "outputs": [
    {
     "data": {
      "text/html": [
       "<div>\n",
       "<style scoped>\n",
       "    .dataframe tbody tr th:only-of-type {\n",
       "        vertical-align: middle;\n",
       "    }\n",
       "\n",
       "    .dataframe tbody tr th {\n",
       "        vertical-align: top;\n",
       "    }\n",
       "\n",
       "    .dataframe thead th {\n",
       "        text-align: right;\n",
       "    }\n",
       "</style>\n",
       "<table border=\"1\" class=\"dataframe\">\n",
       "  <thead>\n",
       "    <tr style=\"text-align: right;\">\n",
       "      <th></th>\n",
       "      <th>iso_code</th>\n",
       "      <th>continent</th>\n",
       "      <th>location</th>\n",
       "      <th>date</th>\n",
       "      <th>total_cases</th>\n",
       "      <th>new_cases</th>\n",
       "      <th>new_cases_smoothed</th>\n",
       "      <th>total_deaths</th>\n",
       "      <th>new_deaths</th>\n",
       "      <th>new_deaths_smoothed</th>\n",
       "      <th>...</th>\n",
       "      <th>male_smokers</th>\n",
       "      <th>handwashing_facilities</th>\n",
       "      <th>hospital_beds_per_thousand</th>\n",
       "      <th>life_expectancy</th>\n",
       "      <th>human_development_index</th>\n",
       "      <th>population</th>\n",
       "      <th>excess_mortality_cumulative_absolute</th>\n",
       "      <th>excess_mortality_cumulative</th>\n",
       "      <th>excess_mortality</th>\n",
       "      <th>excess_mortality_cumulative_per_million</th>\n",
       "    </tr>\n",
       "  </thead>\n",
       "  <tbody>\n",
       "    <tr>\n",
       "      <th>0</th>\n",
       "      <td>AFG</td>\n",
       "      <td>Asia</td>\n",
       "      <td>Afghanistan</td>\n",
       "      <td>2020-01-03</td>\n",
       "      <td>NaN</td>\n",
       "      <td>0.0</td>\n",
       "      <td>NaN</td>\n",
       "      <td>NaN</td>\n",
       "      <td>0.0</td>\n",
       "      <td>NaN</td>\n",
       "      <td>...</td>\n",
       "      <td>NaN</td>\n",
       "      <td>37.746</td>\n",
       "      <td>0.5</td>\n",
       "      <td>64.83</td>\n",
       "      <td>0.511</td>\n",
       "      <td>41128772.0</td>\n",
       "      <td>NaN</td>\n",
       "      <td>NaN</td>\n",
       "      <td>NaN</td>\n",
       "      <td>NaN</td>\n",
       "    </tr>\n",
       "    <tr>\n",
       "      <th>1</th>\n",
       "      <td>AFG</td>\n",
       "      <td>Asia</td>\n",
       "      <td>Afghanistan</td>\n",
       "      <td>2020-01-04</td>\n",
       "      <td>NaN</td>\n",
       "      <td>0.0</td>\n",
       "      <td>NaN</td>\n",
       "      <td>NaN</td>\n",
       "      <td>0.0</td>\n",
       "      <td>NaN</td>\n",
       "      <td>...</td>\n",
       "      <td>NaN</td>\n",
       "      <td>37.746</td>\n",
       "      <td>0.5</td>\n",
       "      <td>64.83</td>\n",
       "      <td>0.511</td>\n",
       "      <td>41128772.0</td>\n",
       "      <td>NaN</td>\n",
       "      <td>NaN</td>\n",
       "      <td>NaN</td>\n",
       "      <td>NaN</td>\n",
       "    </tr>\n",
       "    <tr>\n",
       "      <th>2</th>\n",
       "      <td>AFG</td>\n",
       "      <td>Asia</td>\n",
       "      <td>Afghanistan</td>\n",
       "      <td>2020-01-05</td>\n",
       "      <td>NaN</td>\n",
       "      <td>0.0</td>\n",
       "      <td>NaN</td>\n",
       "      <td>NaN</td>\n",
       "      <td>0.0</td>\n",
       "      <td>NaN</td>\n",
       "      <td>...</td>\n",
       "      <td>NaN</td>\n",
       "      <td>37.746</td>\n",
       "      <td>0.5</td>\n",
       "      <td>64.83</td>\n",
       "      <td>0.511</td>\n",
       "      <td>41128772.0</td>\n",
       "      <td>NaN</td>\n",
       "      <td>NaN</td>\n",
       "      <td>NaN</td>\n",
       "      <td>NaN</td>\n",
       "    </tr>\n",
       "    <tr>\n",
       "      <th>3</th>\n",
       "      <td>AFG</td>\n",
       "      <td>Asia</td>\n",
       "      <td>Afghanistan</td>\n",
       "      <td>2020-01-06</td>\n",
       "      <td>NaN</td>\n",
       "      <td>0.0</td>\n",
       "      <td>NaN</td>\n",
       "      <td>NaN</td>\n",
       "      <td>0.0</td>\n",
       "      <td>NaN</td>\n",
       "      <td>...</td>\n",
       "      <td>NaN</td>\n",
       "      <td>37.746</td>\n",
       "      <td>0.5</td>\n",
       "      <td>64.83</td>\n",
       "      <td>0.511</td>\n",
       "      <td>41128772.0</td>\n",
       "      <td>NaN</td>\n",
       "      <td>NaN</td>\n",
       "      <td>NaN</td>\n",
       "      <td>NaN</td>\n",
       "    </tr>\n",
       "    <tr>\n",
       "      <th>4</th>\n",
       "      <td>AFG</td>\n",
       "      <td>Asia</td>\n",
       "      <td>Afghanistan</td>\n",
       "      <td>2020-01-07</td>\n",
       "      <td>NaN</td>\n",
       "      <td>0.0</td>\n",
       "      <td>NaN</td>\n",
       "      <td>NaN</td>\n",
       "      <td>0.0</td>\n",
       "      <td>NaN</td>\n",
       "      <td>...</td>\n",
       "      <td>NaN</td>\n",
       "      <td>37.746</td>\n",
       "      <td>0.5</td>\n",
       "      <td>64.83</td>\n",
       "      <td>0.511</td>\n",
       "      <td>41128772.0</td>\n",
       "      <td>NaN</td>\n",
       "      <td>NaN</td>\n",
       "      <td>NaN</td>\n",
       "      <td>NaN</td>\n",
       "    </tr>\n",
       "  </tbody>\n",
       "</table>\n",
       "<p>5 rows × 67 columns</p>\n",
       "</div>"
      ],
      "text/plain": [
       "  iso_code continent     location        date  total_cases  new_cases  \\\n",
       "0      AFG      Asia  Afghanistan  2020-01-03          NaN        0.0   \n",
       "1      AFG      Asia  Afghanistan  2020-01-04          NaN        0.0   \n",
       "2      AFG      Asia  Afghanistan  2020-01-05          NaN        0.0   \n",
       "3      AFG      Asia  Afghanistan  2020-01-06          NaN        0.0   \n",
       "4      AFG      Asia  Afghanistan  2020-01-07          NaN        0.0   \n",
       "\n",
       "   new_cases_smoothed  total_deaths  new_deaths  new_deaths_smoothed  ...  \\\n",
       "0                 NaN           NaN         0.0                  NaN  ...   \n",
       "1                 NaN           NaN         0.0                  NaN  ...   \n",
       "2                 NaN           NaN         0.0                  NaN  ...   \n",
       "3                 NaN           NaN         0.0                  NaN  ...   \n",
       "4                 NaN           NaN         0.0                  NaN  ...   \n",
       "\n",
       "   male_smokers  handwashing_facilities  hospital_beds_per_thousand  \\\n",
       "0           NaN                  37.746                         0.5   \n",
       "1           NaN                  37.746                         0.5   \n",
       "2           NaN                  37.746                         0.5   \n",
       "3           NaN                  37.746                         0.5   \n",
       "4           NaN                  37.746                         0.5   \n",
       "\n",
       "   life_expectancy  human_development_index  population  \\\n",
       "0            64.83                    0.511  41128772.0   \n",
       "1            64.83                    0.511  41128772.0   \n",
       "2            64.83                    0.511  41128772.0   \n",
       "3            64.83                    0.511  41128772.0   \n",
       "4            64.83                    0.511  41128772.0   \n",
       "\n",
       "   excess_mortality_cumulative_absolute  excess_mortality_cumulative  \\\n",
       "0                                   NaN                          NaN   \n",
       "1                                   NaN                          NaN   \n",
       "2                                   NaN                          NaN   \n",
       "3                                   NaN                          NaN   \n",
       "4                                   NaN                          NaN   \n",
       "\n",
       "   excess_mortality  excess_mortality_cumulative_per_million  \n",
       "0               NaN                                      NaN  \n",
       "1               NaN                                      NaN  \n",
       "2               NaN                                      NaN  \n",
       "3               NaN                                      NaN  \n",
       "4               NaN                                      NaN  \n",
       "\n",
       "[5 rows x 67 columns]"
      ]
     },
     "execution_count": 3,
     "metadata": {},
     "output_type": "execute_result"
    }
   ],
   "source": [
    "df = pd.read_csv(\"./covid-data.csv\")\n",
    "df.head() "
   ]
  },
  {
   "cell_type": "code",
   "execution_count": 4,
   "id": "e9e303d4-fe6b-4e0b-8531-065075236849",
   "metadata": {
    "scrolled": true
   },
   "outputs": [
    {
     "name": "stdout",
     "output_type": "stream",
     "text": [
      "<class 'pandas.core.frame.DataFrame'>\n",
      "RangeIndex: 302512 entries, 0 to 302511\n",
      "Data columns (total 67 columns):\n",
      " #   Column                                      Non-Null Count   Dtype  \n",
      "---  ------                                      --------------   -----  \n",
      " 0   iso_code                                    302512 non-null  object \n",
      " 1   continent                                   288160 non-null  object \n",
      " 2   location                                    302512 non-null  object \n",
      " 3   date                                        302512 non-null  object \n",
      " 4   total_cases                                 266771 non-null  float64\n",
      " 5   new_cases                                   294064 non-null  float64\n",
      " 6   new_cases_smoothed                          292800 non-null  float64\n",
      " 7   total_deaths                                246214 non-null  float64\n",
      " 8   new_deaths                                  294139 non-null  float64\n",
      " 9   new_deaths_smoothed                         292909 non-null  float64\n",
      " 10  total_cases_per_million                     266771 non-null  float64\n",
      " 11  new_cases_per_million                       294064 non-null  float64\n",
      " 12  new_cases_smoothed_per_million              292800 non-null  float64\n",
      " 13  total_deaths_per_million                    246214 non-null  float64\n",
      " 14  new_deaths_per_million                      294139 non-null  float64\n",
      " 15  new_deaths_smoothed_per_million             292909 non-null  float64\n",
      " 16  reproduction_rate                           184817 non-null  float64\n",
      " 17  icu_patients                                34764 non-null   float64\n",
      " 18  icu_patients_per_million                    34764 non-null   float64\n",
      " 19  hosp_patients                               35138 non-null   float64\n",
      " 20  hosp_patients_per_million                   35138 non-null   float64\n",
      " 21  weekly_icu_admissions                       9101 non-null    float64\n",
      " 22  weekly_icu_admissions_per_million           9101 non-null    float64\n",
      " 23  weekly_hosp_admissions                      21287 non-null   float64\n",
      " 24  weekly_hosp_admissions_per_million          21287 non-null   float64\n",
      " 25  total_tests                                 79387 non-null   float64\n",
      " 26  new_tests                                   75403 non-null   float64\n",
      " 27  total_tests_per_thousand                    79387 non-null   float64\n",
      " 28  new_tests_per_thousand                      75403 non-null   float64\n",
      " 29  new_tests_smoothed                          103965 non-null  float64\n",
      " 30  new_tests_smoothed_per_thousand             103965 non-null  float64\n",
      " 31  positive_rate                               95927 non-null   float64\n",
      " 32  tests_per_case                              94348 non-null   float64\n",
      " 33  tests_units                                 106788 non-null  object \n",
      " 34  total_vaccinations                          73561 non-null   float64\n",
      " 35  people_vaccinated                           70411 non-null   float64\n",
      " 36  people_fully_vaccinated                     68149 non-null   float64\n",
      " 37  total_boosters                              42324 non-null   float64\n",
      " 38  new_vaccinations                            60542 non-null   float64\n",
      " 39  new_vaccinations_smoothed                   163536 non-null  float64\n",
      " 40  total_vaccinations_per_hundred              73561 non-null   float64\n",
      " 41  people_vaccinated_per_hundred               70411 non-null   float64\n",
      " 42  people_fully_vaccinated_per_hundred         68149 non-null   float64\n",
      " 43  total_boosters_per_hundred                  42324 non-null   float64\n",
      " 44  new_vaccinations_smoothed_per_million       163536 non-null  float64\n",
      " 45  new_people_vaccinated_smoothed              163587 non-null  float64\n",
      " 46  new_people_vaccinated_smoothed_per_hundred  163587 non-null  float64\n",
      " 47  stringency_index                            193194 non-null  float64\n",
      " 48  population_density                          256703 non-null  float64\n",
      " 49  median_age                                  238751 non-null  float64\n",
      " 50  aged_65_older                               230391 non-null  float64\n",
      " 51  aged_70_older                               236359 non-null  float64\n",
      " 52  gdp_per_capita                              233979 non-null  float64\n",
      " 53  extreme_poverty                             150700 non-null  float64\n",
      " 54  cardiovasc_death_rate                       234406 non-null  float64\n",
      " 55  diabetes_prevalence                         246348 non-null  float64\n",
      " 56  female_smokers                              175815 non-null  float64\n",
      " 57  male_smokers                                173423 non-null  float64\n",
      " 58  handwashing_facilities                      114817 non-null  float64\n",
      " 59  hospital_beds_per_thousand                  206911 non-null  float64\n",
      " 60  life_expectancy                             278219 non-null  float64\n",
      " 61  human_development_index                     227212 non-null  float64\n",
      " 62  population                                  302512 non-null  float64\n",
      " 63  excess_mortality_cumulative_absolute        10295 non-null   float64\n",
      " 64  excess_mortality_cumulative                 10295 non-null   float64\n",
      " 65  excess_mortality                            10295 non-null   float64\n",
      " 66  excess_mortality_cumulative_per_million     10295 non-null   float64\n",
      "dtypes: float64(62), object(5)\n",
      "memory usage: 154.6+ MB\n"
     ]
    }
   ],
   "source": [
    "# show info\n",
    "df.info()"
   ]
  },
  {
   "cell_type": "code",
   "execution_count": 5,
   "id": "6ac288df-5358-4cd2-a76d-62d0ea76b021",
   "metadata": {},
   "outputs": [
    {
     "data": {
      "text/html": [
       "<div>\n",
       "<style scoped>\n",
       "    .dataframe tbody tr th:only-of-type {\n",
       "        vertical-align: middle;\n",
       "    }\n",
       "\n",
       "    .dataframe tbody tr th {\n",
       "        vertical-align: top;\n",
       "    }\n",
       "\n",
       "    .dataframe thead th {\n",
       "        text-align: right;\n",
       "    }\n",
       "</style>\n",
       "<table border=\"1\" class=\"dataframe\">\n",
       "  <thead>\n",
       "    <tr style=\"text-align: right;\">\n",
       "      <th></th>\n",
       "      <th>total_cases</th>\n",
       "      <th>new_cases</th>\n",
       "      <th>new_cases_smoothed</th>\n",
       "      <th>total_deaths</th>\n",
       "      <th>new_deaths</th>\n",
       "      <th>new_deaths_smoothed</th>\n",
       "      <th>total_cases_per_million</th>\n",
       "      <th>new_cases_per_million</th>\n",
       "      <th>new_cases_smoothed_per_million</th>\n",
       "      <th>total_deaths_per_million</th>\n",
       "      <th>...</th>\n",
       "      <th>male_smokers</th>\n",
       "      <th>handwashing_facilities</th>\n",
       "      <th>hospital_beds_per_thousand</th>\n",
       "      <th>life_expectancy</th>\n",
       "      <th>human_development_index</th>\n",
       "      <th>population</th>\n",
       "      <th>excess_mortality_cumulative_absolute</th>\n",
       "      <th>excess_mortality_cumulative</th>\n",
       "      <th>excess_mortality</th>\n",
       "      <th>excess_mortality_cumulative_per_million</th>\n",
       "    </tr>\n",
       "  </thead>\n",
       "  <tbody>\n",
       "    <tr>\n",
       "      <th>count</th>\n",
       "      <td>2.667710e+05</td>\n",
       "      <td>2.940640e+05</td>\n",
       "      <td>2.928000e+05</td>\n",
       "      <td>2.462140e+05</td>\n",
       "      <td>294139.000000</td>\n",
       "      <td>292909.000000</td>\n",
       "      <td>266771.000000</td>\n",
       "      <td>294064.000000</td>\n",
       "      <td>292800.000000</td>\n",
       "      <td>246214.000000</td>\n",
       "      <td>...</td>\n",
       "      <td>173423.000000</td>\n",
       "      <td>114817.000000</td>\n",
       "      <td>206911.000000</td>\n",
       "      <td>278219.000000</td>\n",
       "      <td>227212.000000</td>\n",
       "      <td>3.025120e+05</td>\n",
       "      <td>1.029500e+04</td>\n",
       "      <td>10295.000000</td>\n",
       "      <td>10295.000000</td>\n",
       "      <td>10295.000000</td>\n",
       "    </tr>\n",
       "    <tr>\n",
       "      <th>mean</th>\n",
       "      <td>5.525632e+06</td>\n",
       "      <td>1.100018e+04</td>\n",
       "      <td>1.104556e+04</td>\n",
       "      <td>7.890977e+04</td>\n",
       "      <td>97.976117</td>\n",
       "      <td>98.374032</td>\n",
       "      <td>84395.533693</td>\n",
       "      <td>165.822440</td>\n",
       "      <td>166.511964</td>\n",
       "      <td>793.821846</td>\n",
       "      <td>...</td>\n",
       "      <td>32.909646</td>\n",
       "      <td>50.789341</td>\n",
       "      <td>3.097013</td>\n",
       "      <td>73.718480</td>\n",
       "      <td>0.722471</td>\n",
       "      <td>1.280398e+08</td>\n",
       "      <td>4.727286e+04</td>\n",
       "      <td>9.535368</td>\n",
       "      <td>12.996518</td>\n",
       "      <td>1453.830857</td>\n",
       "    </tr>\n",
       "    <tr>\n",
       "      <th>std</th>\n",
       "      <td>3.465076e+07</td>\n",
       "      <td>1.043446e+05</td>\n",
       "      <td>1.016488e+05</td>\n",
       "      <td>4.087464e+05</td>\n",
       "      <td>606.914602</td>\n",
       "      <td>597.602496</td>\n",
       "      <td>134636.639039</td>\n",
       "      <td>1134.538414</td>\n",
       "      <td>642.891130</td>\n",
       "      <td>1039.499140</td>\n",
       "      <td>...</td>\n",
       "      <td>13.574672</td>\n",
       "      <td>31.957428</td>\n",
       "      <td>2.548380</td>\n",
       "      <td>7.397441</td>\n",
       "      <td>0.148991</td>\n",
       "      <td>6.594467e+08</td>\n",
       "      <td>1.377826e+05</td>\n",
       "      <td>13.082029</td>\n",
       "      <td>26.634303</td>\n",
       "      <td>1830.272458</td>\n",
       "    </tr>\n",
       "    <tr>\n",
       "      <th>min</th>\n",
       "      <td>1.000000e+00</td>\n",
       "      <td>0.000000e+00</td>\n",
       "      <td>0.000000e+00</td>\n",
       "      <td>1.000000e+00</td>\n",
       "      <td>0.000000</td>\n",
       "      <td>0.000000</td>\n",
       "      <td>0.000000</td>\n",
       "      <td>0.000000</td>\n",
       "      <td>0.000000</td>\n",
       "      <td>0.000000</td>\n",
       "      <td>...</td>\n",
       "      <td>7.700000</td>\n",
       "      <td>1.188000</td>\n",
       "      <td>0.100000</td>\n",
       "      <td>53.280000</td>\n",
       "      <td>0.394000</td>\n",
       "      <td>4.700000e+01</td>\n",
       "      <td>-3.772610e+04</td>\n",
       "      <td>-44.230000</td>\n",
       "      <td>-95.920000</td>\n",
       "      <td>-1984.281600</td>\n",
       "    </tr>\n",
       "    <tr>\n",
       "      <th>25%</th>\n",
       "      <td>6.265000e+03</td>\n",
       "      <td>0.000000e+00</td>\n",
       "      <td>1.286000e+00</td>\n",
       "      <td>1.180000e+02</td>\n",
       "      <td>0.000000</td>\n",
       "      <td>0.000000</td>\n",
       "      <td>1889.971500</td>\n",
       "      <td>0.000000</td>\n",
       "      <td>0.294000</td>\n",
       "      <td>47.650000</td>\n",
       "      <td>...</td>\n",
       "      <td>22.600000</td>\n",
       "      <td>20.859000</td>\n",
       "      <td>1.300000</td>\n",
       "      <td>69.590000</td>\n",
       "      <td>0.602000</td>\n",
       "      <td>4.490020e+05</td>\n",
       "      <td>2.185000e+01</td>\n",
       "      <td>0.420000</td>\n",
       "      <td>-1.040000</td>\n",
       "      <td>15.453504</td>\n",
       "    </tr>\n",
       "    <tr>\n",
       "      <th>50%</th>\n",
       "      <td>5.986600e+04</td>\n",
       "      <td>1.900000e+01</td>\n",
       "      <td>4.000000e+01</td>\n",
       "      <td>1.193000e+03</td>\n",
       "      <td>0.000000</td>\n",
       "      <td>0.286000</td>\n",
       "      <td>19249.100000</td>\n",
       "      <td>2.808000</td>\n",
       "      <td>11.391000</td>\n",
       "      <td>324.971000</td>\n",
       "      <td>...</td>\n",
       "      <td>33.100000</td>\n",
       "      <td>49.839000</td>\n",
       "      <td>2.500000</td>\n",
       "      <td>75.050000</td>\n",
       "      <td>0.740000</td>\n",
       "      <td>5.882259e+06</td>\n",
       "      <td>4.464499e+03</td>\n",
       "      <td>7.750000</td>\n",
       "      <td>6.750000</td>\n",
       "      <td>881.367860</td>\n",
       "    </tr>\n",
       "    <tr>\n",
       "      <th>75%</th>\n",
       "      <td>6.149885e+05</td>\n",
       "      <td>5.610000e+02</td>\n",
       "      <td>6.530000e+02</td>\n",
       "      <td>1.038675e+04</td>\n",
       "      <td>6.000000</td>\n",
       "      <td>7.000000</td>\n",
       "      <td>102486.778500</td>\n",
       "      <td>73.163500</td>\n",
       "      <td>108.147500</td>\n",
       "      <td>1214.197000</td>\n",
       "      <td>...</td>\n",
       "      <td>41.300000</td>\n",
       "      <td>83.241000</td>\n",
       "      <td>4.200000</td>\n",
       "      <td>79.460000</td>\n",
       "      <td>0.829000</td>\n",
       "      <td>2.830170e+07</td>\n",
       "      <td>3.174990e+04</td>\n",
       "      <td>15.520000</td>\n",
       "      <td>18.545000</td>\n",
       "      <td>2372.123350</td>\n",
       "    </tr>\n",
       "    <tr>\n",
       "      <th>max</th>\n",
       "      <td>7.627904e+08</td>\n",
       "      <td>7.460100e+06</td>\n",
       "      <td>6.410233e+06</td>\n",
       "      <td>6.897012e+06</td>\n",
       "      <td>20005.000000</td>\n",
       "      <td>14578.571000</td>\n",
       "      <td>731762.140000</td>\n",
       "      <td>228872.025000</td>\n",
       "      <td>37241.781000</td>\n",
       "      <td>6457.229000</td>\n",
       "      <td>...</td>\n",
       "      <td>78.100000</td>\n",
       "      <td>100.000000</td>\n",
       "      <td>13.800000</td>\n",
       "      <td>86.750000</td>\n",
       "      <td>0.957000</td>\n",
       "      <td>7.975105e+09</td>\n",
       "      <td>1.282260e+06</td>\n",
       "      <td>76.550000</td>\n",
       "      <td>377.040000</td>\n",
       "      <td>10329.523000</td>\n",
       "    </tr>\n",
       "  </tbody>\n",
       "</table>\n",
       "<p>8 rows × 62 columns</p>\n",
       "</div>"
      ],
      "text/plain": [
       "        total_cases     new_cases  new_cases_smoothed  total_deaths  \\\n",
       "count  2.667710e+05  2.940640e+05        2.928000e+05  2.462140e+05   \n",
       "mean   5.525632e+06  1.100018e+04        1.104556e+04  7.890977e+04   \n",
       "std    3.465076e+07  1.043446e+05        1.016488e+05  4.087464e+05   \n",
       "min    1.000000e+00  0.000000e+00        0.000000e+00  1.000000e+00   \n",
       "25%    6.265000e+03  0.000000e+00        1.286000e+00  1.180000e+02   \n",
       "50%    5.986600e+04  1.900000e+01        4.000000e+01  1.193000e+03   \n",
       "75%    6.149885e+05  5.610000e+02        6.530000e+02  1.038675e+04   \n",
       "max    7.627904e+08  7.460100e+06        6.410233e+06  6.897012e+06   \n",
       "\n",
       "          new_deaths  new_deaths_smoothed  total_cases_per_million  \\\n",
       "count  294139.000000        292909.000000            266771.000000   \n",
       "mean       97.976117            98.374032             84395.533693   \n",
       "std       606.914602           597.602496            134636.639039   \n",
       "min         0.000000             0.000000                 0.000000   \n",
       "25%         0.000000             0.000000              1889.971500   \n",
       "50%         0.000000             0.286000             19249.100000   \n",
       "75%         6.000000             7.000000            102486.778500   \n",
       "max     20005.000000         14578.571000            731762.140000   \n",
       "\n",
       "       new_cases_per_million  new_cases_smoothed_per_million  \\\n",
       "count          294064.000000                   292800.000000   \n",
       "mean              165.822440                      166.511964   \n",
       "std              1134.538414                      642.891130   \n",
       "min                 0.000000                        0.000000   \n",
       "25%                 0.000000                        0.294000   \n",
       "50%                 2.808000                       11.391000   \n",
       "75%                73.163500                      108.147500   \n",
       "max            228872.025000                    37241.781000   \n",
       "\n",
       "       total_deaths_per_million  ...   male_smokers  handwashing_facilities  \\\n",
       "count             246214.000000  ...  173423.000000           114817.000000   \n",
       "mean                 793.821846  ...      32.909646               50.789341   \n",
       "std                 1039.499140  ...      13.574672               31.957428   \n",
       "min                    0.000000  ...       7.700000                1.188000   \n",
       "25%                   47.650000  ...      22.600000               20.859000   \n",
       "50%                  324.971000  ...      33.100000               49.839000   \n",
       "75%                 1214.197000  ...      41.300000               83.241000   \n",
       "max                 6457.229000  ...      78.100000              100.000000   \n",
       "\n",
       "       hospital_beds_per_thousand  life_expectancy  human_development_index  \\\n",
       "count               206911.000000    278219.000000            227212.000000   \n",
       "mean                     3.097013        73.718480                 0.722471   \n",
       "std                      2.548380         7.397441                 0.148991   \n",
       "min                      0.100000        53.280000                 0.394000   \n",
       "25%                      1.300000        69.590000                 0.602000   \n",
       "50%                      2.500000        75.050000                 0.740000   \n",
       "75%                      4.200000        79.460000                 0.829000   \n",
       "max                     13.800000        86.750000                 0.957000   \n",
       "\n",
       "         population  excess_mortality_cumulative_absolute  \\\n",
       "count  3.025120e+05                          1.029500e+04   \n",
       "mean   1.280398e+08                          4.727286e+04   \n",
       "std    6.594467e+08                          1.377826e+05   \n",
       "min    4.700000e+01                         -3.772610e+04   \n",
       "25%    4.490020e+05                          2.185000e+01   \n",
       "50%    5.882259e+06                          4.464499e+03   \n",
       "75%    2.830170e+07                          3.174990e+04   \n",
       "max    7.975105e+09                          1.282260e+06   \n",
       "\n",
       "       excess_mortality_cumulative  excess_mortality  \\\n",
       "count                 10295.000000      10295.000000   \n",
       "mean                      9.535368         12.996518   \n",
       "std                      13.082029         26.634303   \n",
       "min                     -44.230000        -95.920000   \n",
       "25%                       0.420000         -1.040000   \n",
       "50%                       7.750000          6.750000   \n",
       "75%                      15.520000         18.545000   \n",
       "max                      76.550000        377.040000   \n",
       "\n",
       "       excess_mortality_cumulative_per_million  \n",
       "count                             10295.000000  \n",
       "mean                               1453.830857  \n",
       "std                                1830.272458  \n",
       "min                               -1984.281600  \n",
       "25%                                  15.453504  \n",
       "50%                                 881.367860  \n",
       "75%                                2372.123350  \n",
       "max                               10329.523000  \n",
       "\n",
       "[8 rows x 62 columns]"
      ]
     },
     "execution_count": 5,
     "metadata": {},
     "output_type": "execute_result"
    }
   ],
   "source": [
    "# descriptive statistics\n",
    "df.describe()\n"
   ]
  },
  {
   "cell_type": "code",
   "execution_count": 6,
   "id": "d4bef691-ac1e-4723-998a-8f4adf18e59d",
   "metadata": {},
   "outputs": [
    {
     "data": {
      "text/html": [
       "<div>\n",
       "<style scoped>\n",
       "    .dataframe tbody tr th:only-of-type {\n",
       "        vertical-align: middle;\n",
       "    }\n",
       "\n",
       "    .dataframe tbody tr th {\n",
       "        vertical-align: top;\n",
       "    }\n",
       "\n",
       "    .dataframe thead th {\n",
       "        text-align: right;\n",
       "    }\n",
       "</style>\n",
       "<table border=\"1\" class=\"dataframe\">\n",
       "  <thead>\n",
       "    <tr style=\"text-align: right;\">\n",
       "      <th></th>\n",
       "      <th>new_cases_smoothed</th>\n",
       "      <th>new_deaths_smoothed</th>\n",
       "    </tr>\n",
       "  </thead>\n",
       "  <tbody>\n",
       "    <tr>\n",
       "      <th>count</th>\n",
       "      <td>2.928000e+05</td>\n",
       "      <td>292909.000000</td>\n",
       "    </tr>\n",
       "    <tr>\n",
       "      <th>mean</th>\n",
       "      <td>1.104556e+04</td>\n",
       "      <td>98.374032</td>\n",
       "    </tr>\n",
       "    <tr>\n",
       "      <th>std</th>\n",
       "      <td>1.016488e+05</td>\n",
       "      <td>597.602496</td>\n",
       "    </tr>\n",
       "    <tr>\n",
       "      <th>min</th>\n",
       "      <td>0.000000e+00</td>\n",
       "      <td>0.000000</td>\n",
       "    </tr>\n",
       "    <tr>\n",
       "      <th>25%</th>\n",
       "      <td>1.286000e+00</td>\n",
       "      <td>0.000000</td>\n",
       "    </tr>\n",
       "    <tr>\n",
       "      <th>50%</th>\n",
       "      <td>4.000000e+01</td>\n",
       "      <td>0.286000</td>\n",
       "    </tr>\n",
       "    <tr>\n",
       "      <th>75%</th>\n",
       "      <td>6.530000e+02</td>\n",
       "      <td>7.000000</td>\n",
       "    </tr>\n",
       "    <tr>\n",
       "      <th>max</th>\n",
       "      <td>6.410233e+06</td>\n",
       "      <td>14578.571000</td>\n",
       "    </tr>\n",
       "  </tbody>\n",
       "</table>\n",
       "</div>"
      ],
      "text/plain": [
       "       new_cases_smoothed  new_deaths_smoothed\n",
       "count        2.928000e+05        292909.000000\n",
       "mean         1.104556e+04            98.374032\n",
       "std          1.016488e+05           597.602496\n",
       "min          0.000000e+00             0.000000\n",
       "25%          1.286000e+00             0.000000\n",
       "50%          4.000000e+01             0.286000\n",
       "75%          6.530000e+02             7.000000\n",
       "max          6.410233e+06         14578.571000"
      ]
     },
     "execution_count": 6,
     "metadata": {},
     "output_type": "execute_result"
    }
   ],
   "source": [
    "df[[\"new_cases_smoothed\",\"new_deaths_smoothed\"]].describe()"
   ]
  },
  {
   "cell_type": "markdown",
   "id": "8eb0651f-e2f0-4872-a780-fe85ea9f7e51",
   "metadata": {},
   "source": [
    "Step 3: Check Specific Pillar Columns"
   ]
  },
  {
   "cell_type": "code",
   "execution_count": 7,
   "id": "d09671a6-c053-40aa-8be1-aa23a2ced94a",
   "metadata": {},
   "outputs": [
    {
     "data": {
      "text/html": [
       "<div>\n",
       "<style scoped>\n",
       "    .dataframe tbody tr th:only-of-type {\n",
       "        vertical-align: middle;\n",
       "    }\n",
       "\n",
       "    .dataframe tbody tr th {\n",
       "        vertical-align: top;\n",
       "    }\n",
       "\n",
       "    .dataframe thead th {\n",
       "        text-align: right;\n",
       "    }\n",
       "</style>\n",
       "<table border=\"1\" class=\"dataframe\">\n",
       "  <thead>\n",
       "    <tr style=\"text-align: right;\">\n",
       "      <th></th>\n",
       "      <th>total_cases</th>\n",
       "      <th>total_deaths</th>\n",
       "      <th>new_cases</th>\n",
       "      <th>new_deaths</th>\n",
       "      <th>excess_mortality</th>\n",
       "      <th>total_cases_per_million</th>\n",
       "      <th>new_cases_per_million</th>\n",
       "    </tr>\n",
       "  </thead>\n",
       "  <tbody>\n",
       "    <tr>\n",
       "      <th>count</th>\n",
       "      <td>2.667710e+05</td>\n",
       "      <td>2.462140e+05</td>\n",
       "      <td>2.940640e+05</td>\n",
       "      <td>294139.000000</td>\n",
       "      <td>10295.000000</td>\n",
       "      <td>266771.000000</td>\n",
       "      <td>294064.000000</td>\n",
       "    </tr>\n",
       "    <tr>\n",
       "      <th>mean</th>\n",
       "      <td>5.525632e+06</td>\n",
       "      <td>7.890977e+04</td>\n",
       "      <td>1.100018e+04</td>\n",
       "      <td>97.976117</td>\n",
       "      <td>12.996518</td>\n",
       "      <td>84395.533693</td>\n",
       "      <td>165.822440</td>\n",
       "    </tr>\n",
       "    <tr>\n",
       "      <th>std</th>\n",
       "      <td>3.465076e+07</td>\n",
       "      <td>4.087464e+05</td>\n",
       "      <td>1.043446e+05</td>\n",
       "      <td>606.914602</td>\n",
       "      <td>26.634303</td>\n",
       "      <td>134636.639039</td>\n",
       "      <td>1134.538414</td>\n",
       "    </tr>\n",
       "    <tr>\n",
       "      <th>min</th>\n",
       "      <td>1.000000e+00</td>\n",
       "      <td>1.000000e+00</td>\n",
       "      <td>0.000000e+00</td>\n",
       "      <td>0.000000</td>\n",
       "      <td>-95.920000</td>\n",
       "      <td>0.000000</td>\n",
       "      <td>0.000000</td>\n",
       "    </tr>\n",
       "    <tr>\n",
       "      <th>25%</th>\n",
       "      <td>6.265000e+03</td>\n",
       "      <td>1.180000e+02</td>\n",
       "      <td>0.000000e+00</td>\n",
       "      <td>0.000000</td>\n",
       "      <td>-1.040000</td>\n",
       "      <td>1889.971500</td>\n",
       "      <td>0.000000</td>\n",
       "    </tr>\n",
       "    <tr>\n",
       "      <th>50%</th>\n",
       "      <td>5.986600e+04</td>\n",
       "      <td>1.193000e+03</td>\n",
       "      <td>1.900000e+01</td>\n",
       "      <td>0.000000</td>\n",
       "      <td>6.750000</td>\n",
       "      <td>19249.100000</td>\n",
       "      <td>2.808000</td>\n",
       "    </tr>\n",
       "    <tr>\n",
       "      <th>75%</th>\n",
       "      <td>6.149885e+05</td>\n",
       "      <td>1.038675e+04</td>\n",
       "      <td>5.610000e+02</td>\n",
       "      <td>6.000000</td>\n",
       "      <td>18.545000</td>\n",
       "      <td>102486.778500</td>\n",
       "      <td>73.163500</td>\n",
       "    </tr>\n",
       "    <tr>\n",
       "      <th>max</th>\n",
       "      <td>7.627904e+08</td>\n",
       "      <td>6.897012e+06</td>\n",
       "      <td>7.460100e+06</td>\n",
       "      <td>20005.000000</td>\n",
       "      <td>377.040000</td>\n",
       "      <td>731762.140000</td>\n",
       "      <td>228872.025000</td>\n",
       "    </tr>\n",
       "  </tbody>\n",
       "</table>\n",
       "</div>"
      ],
      "text/plain": [
       "        total_cases  total_deaths     new_cases     new_deaths  \\\n",
       "count  2.667710e+05  2.462140e+05  2.940640e+05  294139.000000   \n",
       "mean   5.525632e+06  7.890977e+04  1.100018e+04      97.976117   \n",
       "std    3.465076e+07  4.087464e+05  1.043446e+05     606.914602   \n",
       "min    1.000000e+00  1.000000e+00  0.000000e+00       0.000000   \n",
       "25%    6.265000e+03  1.180000e+02  0.000000e+00       0.000000   \n",
       "50%    5.986600e+04  1.193000e+03  1.900000e+01       0.000000   \n",
       "75%    6.149885e+05  1.038675e+04  5.610000e+02       6.000000   \n",
       "max    7.627904e+08  6.897012e+06  7.460100e+06   20005.000000   \n",
       "\n",
       "       excess_mortality  total_cases_per_million  new_cases_per_million  \n",
       "count      10295.000000            266771.000000          294064.000000  \n",
       "mean          12.996518             84395.533693             165.822440  \n",
       "std           26.634303            134636.639039            1134.538414  \n",
       "min          -95.920000                 0.000000               0.000000  \n",
       "25%           -1.040000              1889.971500               0.000000  \n",
       "50%            6.750000             19249.100000               2.808000  \n",
       "75%           18.545000            102486.778500              73.163500  \n",
       "max          377.040000            731762.140000          228872.025000  "
      ]
     },
     "execution_count": 7,
     "metadata": {},
     "output_type": "execute_result"
    }
   ],
   "source": [
    "# PILLAR 1: Burden of disease\n",
    "burden_cols = [\"total_cases\",\"total_deaths\",\"new_cases\",\"new_deaths\",\n",
    "               \"excess_mortality\",\"total_cases_per_million\",\"new_cases_per_million\"]\n",
    "df[burden_cols].describe()"
   ]
  },
  {
   "cell_type": "code",
   "execution_count": 8,
   "id": "c3ad445e-90db-412a-834d-14511eafdf2d",
   "metadata": {},
   "outputs": [
    {
     "data": {
      "text/html": [
       "<div>\n",
       "<style scoped>\n",
       "    .dataframe tbody tr th:only-of-type {\n",
       "        vertical-align: middle;\n",
       "    }\n",
       "\n",
       "    .dataframe tbody tr th {\n",
       "        vertical-align: top;\n",
       "    }\n",
       "\n",
       "    .dataframe thead th {\n",
       "        text-align: right;\n",
       "    }\n",
       "</style>\n",
       "<table border=\"1\" class=\"dataframe\">\n",
       "  <thead>\n",
       "    <tr style=\"text-align: right;\">\n",
       "      <th></th>\n",
       "      <th>icu_patients</th>\n",
       "      <th>hosp_patients</th>\n",
       "      <th>weekly_hosp_admissions</th>\n",
       "      <th>hospital_beds_per_thousand</th>\n",
       "    </tr>\n",
       "  </thead>\n",
       "  <tbody>\n",
       "    <tr>\n",
       "      <th>count</th>\n",
       "      <td>34764.000000</td>\n",
       "      <td>35138.000000</td>\n",
       "      <td>21287.00000</td>\n",
       "      <td>206911.000000</td>\n",
       "    </tr>\n",
       "    <tr>\n",
       "      <th>mean</th>\n",
       "      <td>722.296657</td>\n",
       "      <td>4240.497581</td>\n",
       "      <td>4580.91732</td>\n",
       "      <td>3.097013</td>\n",
       "    </tr>\n",
       "    <tr>\n",
       "      <th>std</th>\n",
       "      <td>2255.245237</td>\n",
       "      <td>10438.204914</td>\n",
       "      <td>11486.93403</td>\n",
       "      <td>2.548380</td>\n",
       "    </tr>\n",
       "    <tr>\n",
       "      <th>min</th>\n",
       "      <td>0.000000</td>\n",
       "      <td>0.000000</td>\n",
       "      <td>0.00000</td>\n",
       "      <td>0.100000</td>\n",
       "    </tr>\n",
       "    <tr>\n",
       "      <th>25%</th>\n",
       "      <td>25.000000</td>\n",
       "      <td>259.000000</td>\n",
       "      <td>280.00000</td>\n",
       "      <td>1.300000</td>\n",
       "    </tr>\n",
       "    <tr>\n",
       "      <th>50%</th>\n",
       "      <td>112.000000</td>\n",
       "      <td>858.000000</td>\n",
       "      <td>960.00000</td>\n",
       "      <td>2.500000</td>\n",
       "    </tr>\n",
       "    <tr>\n",
       "      <th>75%</th>\n",
       "      <td>481.000000</td>\n",
       "      <td>3364.000000</td>\n",
       "      <td>4344.00000</td>\n",
       "      <td>4.200000</td>\n",
       "    </tr>\n",
       "    <tr>\n",
       "      <th>max</th>\n",
       "      <td>28891.000000</td>\n",
       "      <td>154497.000000</td>\n",
       "      <td>153977.00000</td>\n",
       "      <td>13.800000</td>\n",
       "    </tr>\n",
       "  </tbody>\n",
       "</table>\n",
       "</div>"
      ],
      "text/plain": [
       "       icu_patients  hosp_patients  weekly_hosp_admissions  \\\n",
       "count  34764.000000   35138.000000             21287.00000   \n",
       "mean     722.296657    4240.497581              4580.91732   \n",
       "std     2255.245237   10438.204914             11486.93403   \n",
       "min        0.000000       0.000000                 0.00000   \n",
       "25%       25.000000     259.000000               280.00000   \n",
       "50%      112.000000     858.000000               960.00000   \n",
       "75%      481.000000    3364.000000              4344.00000   \n",
       "max    28891.000000  154497.000000            153977.00000   \n",
       "\n",
       "       hospital_beds_per_thousand  \n",
       "count               206911.000000  \n",
       "mean                     3.097013  \n",
       "std                      2.548380  \n",
       "min                      0.100000  \n",
       "25%                      1.300000  \n",
       "50%                      2.500000  \n",
       "75%                      4.200000  \n",
       "max                     13.800000  "
      ]
     },
     "execution_count": 8,
     "metadata": {},
     "output_type": "execute_result"
    }
   ],
   "source": [
    "# PILLAR 2: System strain\n",
    "strain_cols = [\"icu_patients\",\"hosp_patients\",\"weekly_hosp_admissions\",\n",
    "               \"hospital_beds_per_thousand\"]\n",
    "df[strain_cols].describe()"
   ]
  },
  {
   "cell_type": "code",
   "execution_count": 9,
   "id": "c8dff6e5-663a-4074-ba57-1cb39b26452c",
   "metadata": {},
   "outputs": [
    {
     "data": {
      "text/html": [
       "<div>\n",
       "<style scoped>\n",
       "    .dataframe tbody tr th:only-of-type {\n",
       "        vertical-align: middle;\n",
       "    }\n",
       "\n",
       "    .dataframe tbody tr th {\n",
       "        vertical-align: top;\n",
       "    }\n",
       "\n",
       "    .dataframe thead th {\n",
       "        text-align: right;\n",
       "    }\n",
       "</style>\n",
       "<table border=\"1\" class=\"dataframe\">\n",
       "  <thead>\n",
       "    <tr style=\"text-align: right;\">\n",
       "      <th></th>\n",
       "      <th>total_tests</th>\n",
       "      <th>positive_rate</th>\n",
       "      <th>stringency_index</th>\n",
       "      <th>total_vaccinations</th>\n",
       "      <th>people_fully_vaccinated</th>\n",
       "    </tr>\n",
       "  </thead>\n",
       "  <tbody>\n",
       "    <tr>\n",
       "      <th>count</th>\n",
       "      <td>7.938700e+04</td>\n",
       "      <td>95927.000000</td>\n",
       "      <td>193194.000000</td>\n",
       "      <td>7.356100e+04</td>\n",
       "      <td>6.814900e+04</td>\n",
       "    </tr>\n",
       "    <tr>\n",
       "      <th>mean</th>\n",
       "      <td>2.110457e+07</td>\n",
       "      <td>0.098163</td>\n",
       "      <td>43.477439</td>\n",
       "      <td>3.631105e+08</td>\n",
       "      <td>1.437811e+08</td>\n",
       "    </tr>\n",
       "    <tr>\n",
       "      <th>std</th>\n",
       "      <td>8.409869e+07</td>\n",
       "      <td>0.115978</td>\n",
       "      <td>24.400287</td>\n",
       "      <td>1.386860e+09</td>\n",
       "      <td>5.601489e+08</td>\n",
       "    </tr>\n",
       "    <tr>\n",
       "      <th>min</th>\n",
       "      <td>0.000000e+00</td>\n",
       "      <td>0.000000</td>\n",
       "      <td>0.000000</td>\n",
       "      <td>0.000000e+00</td>\n",
       "      <td>1.000000e+00</td>\n",
       "    </tr>\n",
       "    <tr>\n",
       "      <th>25%</th>\n",
       "      <td>3.646540e+05</td>\n",
       "      <td>0.017000</td>\n",
       "      <td>22.770000</td>\n",
       "      <td>1.432613e+06</td>\n",
       "      <td>7.180020e+05</td>\n",
       "    </tr>\n",
       "    <tr>\n",
       "      <th>50%</th>\n",
       "      <td>2.067330e+06</td>\n",
       "      <td>0.055000</td>\n",
       "      <td>43.215000</td>\n",
       "      <td>1.087405e+07</td>\n",
       "      <td>4.703255e+06</td>\n",
       "    </tr>\n",
       "    <tr>\n",
       "      <th>75%</th>\n",
       "      <td>1.024845e+07</td>\n",
       "      <td>0.138100</td>\n",
       "      <td>62.500000</td>\n",
       "      <td>7.945056e+07</td>\n",
       "      <td>3.161463e+07</td>\n",
       "    </tr>\n",
       "    <tr>\n",
       "      <th>max</th>\n",
       "      <td>9.214000e+09</td>\n",
       "      <td>1.000000</td>\n",
       "      <td>100.000000</td>\n",
       "      <td>1.336812e+10</td>\n",
       "      <td>5.127133e+09</td>\n",
       "    </tr>\n",
       "  </tbody>\n",
       "</table>\n",
       "</div>"
      ],
      "text/plain": [
       "        total_tests  positive_rate  stringency_index  total_vaccinations  \\\n",
       "count  7.938700e+04   95927.000000     193194.000000        7.356100e+04   \n",
       "mean   2.110457e+07       0.098163         43.477439        3.631105e+08   \n",
       "std    8.409869e+07       0.115978         24.400287        1.386860e+09   \n",
       "min    0.000000e+00       0.000000          0.000000        0.000000e+00   \n",
       "25%    3.646540e+05       0.017000         22.770000        1.432613e+06   \n",
       "50%    2.067330e+06       0.055000         43.215000        1.087405e+07   \n",
       "75%    1.024845e+07       0.138100         62.500000        7.945056e+07   \n",
       "max    9.214000e+09       1.000000        100.000000        1.336812e+10   \n",
       "\n",
       "       people_fully_vaccinated  \n",
       "count             6.814900e+04  \n",
       "mean              1.437811e+08  \n",
       "std               5.601489e+08  \n",
       "min               1.000000e+00  \n",
       "25%               7.180020e+05  \n",
       "50%               4.703255e+06  \n",
       "75%               3.161463e+07  \n",
       "max               5.127133e+09  "
      ]
     },
     "execution_count": 9,
     "metadata": {},
     "output_type": "execute_result"
    }
   ],
   "source": [
    "# PILLAR 3: Government response\n",
    "response_cols = [\"total_tests\",\"positive_rate\",\"stringency_index\",\n",
    "                 \"total_vaccinations\",\"people_fully_vaccinated\"]\n",
    "df[response_cols].describe()"
   ]
  },
  {
   "cell_type": "code",
   "execution_count": 10,
   "id": "7a4fd733-f5df-4318-afce-d891d39acc5c",
   "metadata": {},
   "outputs": [
    {
     "data": {
      "text/plain": [
       "np.int64(173423)"
      ]
     },
     "execution_count": 10,
     "metadata": {},
     "output_type": "execute_result"
    }
   ],
   "source": [
    "df[\"male_smokers\"].count()\n"
   ]
  },
  {
   "cell_type": "code",
   "execution_count": 11,
   "id": "29685ee4-b02a-458c-ba3c-fabfccba73c1",
   "metadata": {},
   "outputs": [
    {
     "data": {
      "text/plain": [
       "np.int64(238751)"
      ]
     },
     "execution_count": 11,
     "metadata": {},
     "output_type": "execute_result"
    }
   ],
   "source": [
    "df[\"median_age\"].count()\n"
   ]
  },
  {
   "cell_type": "markdown",
   "id": "bf8b76b4-26f3-4993-ac47-0a1a358afdcc",
   "metadata": {},
   "source": [
    "Step 4: Check Categorical Data"
   ]
  },
  {
   "cell_type": "markdown",
   "id": "31a3d2f9-0834-411f-a6bd-c138d0886b30",
   "metadata": {},
   "source": [
    "Summary Statistics for Categorical Columns\n",
    "Obviously, we cannot calculate most summary statistics on columns that contain non-numeric data -- there's no way for us to find the mean of the letters in a column, for instance. However, there are some summary statistics we can use to help us better understand our categorical columns\n",
    "iso_code                                    302512 non-null  object \n",
    "continent                                   288160 non-null  object \n",
    "location                                    302512 non-null  object \n",
    "date                                        302512 non-null  object "
   ]
  },
  {
   "cell_type": "code",
   "execution_count": 12,
   "id": "7e85973b-6616-485f-85db-d243e6bfd62a",
   "metadata": {},
   "outputs": [
    {
     "data": {
      "text/html": [
       "<div>\n",
       "<style scoped>\n",
       "    .dataframe tbody tr th:only-of-type {\n",
       "        vertical-align: middle;\n",
       "    }\n",
       "\n",
       "    .dataframe tbody tr th {\n",
       "        vertical-align: top;\n",
       "    }\n",
       "\n",
       "    .dataframe thead th {\n",
       "        text-align: right;\n",
       "    }\n",
       "</style>\n",
       "<table border=\"1\" class=\"dataframe\">\n",
       "  <thead>\n",
       "    <tr style=\"text-align: right;\">\n",
       "      <th></th>\n",
       "      <th>iso_code</th>\n",
       "      <th>continent</th>\n",
       "      <th>location</th>\n",
       "      <th>date</th>\n",
       "    </tr>\n",
       "  </thead>\n",
       "  <tbody>\n",
       "    <tr>\n",
       "      <th>0</th>\n",
       "      <td>AFG</td>\n",
       "      <td>Asia</td>\n",
       "      <td>Afghanistan</td>\n",
       "      <td>2020-01-03</td>\n",
       "    </tr>\n",
       "    <tr>\n",
       "      <th>1</th>\n",
       "      <td>AFG</td>\n",
       "      <td>Asia</td>\n",
       "      <td>Afghanistan</td>\n",
       "      <td>2020-01-04</td>\n",
       "    </tr>\n",
       "    <tr>\n",
       "      <th>2</th>\n",
       "      <td>AFG</td>\n",
       "      <td>Asia</td>\n",
       "      <td>Afghanistan</td>\n",
       "      <td>2020-01-05</td>\n",
       "    </tr>\n",
       "    <tr>\n",
       "      <th>3</th>\n",
       "      <td>AFG</td>\n",
       "      <td>Asia</td>\n",
       "      <td>Afghanistan</td>\n",
       "      <td>2020-01-06</td>\n",
       "    </tr>\n",
       "    <tr>\n",
       "      <th>4</th>\n",
       "      <td>AFG</td>\n",
       "      <td>Asia</td>\n",
       "      <td>Afghanistan</td>\n",
       "      <td>2020-01-07</td>\n",
       "    </tr>\n",
       "  </tbody>\n",
       "</table>\n",
       "</div>"
      ],
      "text/plain": [
       "  iso_code continent     location        date\n",
       "0      AFG      Asia  Afghanistan  2020-01-03\n",
       "1      AFG      Asia  Afghanistan  2020-01-04\n",
       "2      AFG      Asia  Afghanistan  2020-01-05\n",
       "3      AFG      Asia  Afghanistan  2020-01-06\n",
       "4      AFG      Asia  Afghanistan  2020-01-07"
      ]
     },
     "execution_count": 12,
     "metadata": {},
     "output_type": "execute_result"
    }
   ],
   "source": [
    "categorical_columns = [\"iso_code\",\"continent\",\"location\",\"date\"]\n",
    "df[categorical_columns].head()\n"
   ]
  },
  {
   "cell_type": "code",
   "execution_count": 13,
   "id": "df81b560-5f11-403e-8a2a-aa054d94120b",
   "metadata": {},
   "outputs": [
    {
     "name": "stdout",
     "output_type": "stream",
     "text": [
      "Unique values in iso_code:\n",
      "['AFG' 'OWID_AFR' 'ALB' 'DZA' 'ASM' 'AND' 'AGO' 'AIA' 'ATG' 'ARG' 'ARM'\n",
      " 'ABW' 'OWID_ASI' 'AUS' 'AUT' 'AZE' 'BHS' 'BHR' 'BGD' 'BRB' 'BLR' 'BEL'\n",
      " 'BLZ' 'BEN' 'BMU' 'BTN' 'BOL' 'BES' 'BIH' 'BWA' 'BRA' 'VGB' 'BRN' 'BGR'\n",
      " 'BFA' 'BDI' 'KHM' 'CMR' 'CAN' 'CPV' 'CYM' 'CAF' 'TCD' 'CHL' 'CHN' 'COL'\n",
      " 'COM' 'COG' 'COK' 'CRI' 'CIV' 'HRV' 'CUB' 'CUW' 'CYP' 'CZE' 'COD' 'DNK'\n",
      " 'DJI' 'DMA' 'DOM' 'ECU' 'EGY' 'SLV' 'OWID_ENG' 'GNQ' 'ERI' 'EST' 'SWZ'\n",
      " 'ETH' 'OWID_EUR' 'OWID_EUN' 'FRO' 'FLK' 'FJI' 'FIN' 'FRA' 'GUF' 'PYF'\n",
      " 'GAB' 'GMB' 'GEO' 'DEU' 'GHA' 'GIB' 'GRC' 'GRL' 'GRD' 'GLP' 'GUM' 'GTM'\n",
      " 'GGY' 'GIN' 'GNB' 'GUY' 'HTI' 'OWID_HIC' 'HND' 'HKG' 'HUN' 'ISL' 'IND'\n",
      " 'IDN' 'IRN' 'IRQ' 'IRL' 'IMN' 'ISR' 'ITA' 'JAM' 'JPN' 'JEY' 'JOR' 'KAZ'\n",
      " 'KEN' 'KIR' 'OWID_KOS' 'KWT' 'KGZ' 'LAO' 'LVA' 'LBN' 'LSO' 'LBR' 'LBY'\n",
      " 'LIE' 'LTU' 'OWID_LIC' 'OWID_LMC' 'LUX' 'MAC' 'MDG' 'MWI' 'MYS' 'MDV'\n",
      " 'MLI' 'MLT' 'MHL' 'MTQ' 'MRT' 'MUS' 'MYT' 'MEX' 'FSM' 'MDA' 'MCO' 'MNG'\n",
      " 'MNE' 'MSR' 'MAR' 'MOZ' 'MMR' 'NAM' 'NRU' 'NPL' 'NLD' 'NCL' 'NZL' 'NIC'\n",
      " 'NER' 'NGA' 'NIU' 'OWID_NAM' 'PRK' 'MKD' 'OWID_CYN' 'OWID_NIR' 'MNP'\n",
      " 'NOR' 'OWID_OCE' 'OMN' 'PAK' 'PLW' 'PSE' 'PAN' 'PNG' 'PRY' 'PER' 'PHL'\n",
      " 'PCN' 'POL' 'PRT' 'PRI' 'QAT' 'REU' 'ROU' 'RUS' 'RWA' 'BLM' 'SHN' 'KNA'\n",
      " 'LCA' 'MAF' 'SPM' 'VCT' 'WSM' 'SMR' 'STP' 'SAU' 'OWID_SCT' 'SEN' 'SRB'\n",
      " 'SYC' 'SLE' 'SGP' 'SXM' 'SVK' 'SVN' 'SLB' 'SOM' 'ZAF' 'OWID_SAM' 'KOR'\n",
      " 'SSD' 'ESP' 'LKA' 'SDN' 'SUR' 'SWE' 'CHE' 'SYR' 'TWN' 'TJK' 'TZA' 'THA'\n",
      " 'TLS' 'TGO' 'TKL' 'TON' 'TTO' 'TUN' 'TUR' 'TKM' 'TCA' 'TUV' 'UGA' 'UKR'\n",
      " 'ARE' 'GBR' 'USA' 'VIR' 'OWID_UMC' 'URY' 'UZB' 'VUT' 'VAT' 'VEN' 'VNM'\n",
      " 'OWID_WLS' 'WLF' 'ESH' 'OWID_WRL' 'YEM' 'ZMB' 'ZWE']\n",
      "------------------------------\n",
      "Unique values in continent:\n",
      "['Asia' nan 'Europe' 'Africa' 'Oceania' 'North America' 'South America']\n",
      "------------------------------\n",
      "Unique values in location:\n",
      "['Afghanistan' 'Africa' 'Albania' 'Algeria' 'American Samoa' 'Andorra'\n",
      " 'Angola' 'Anguilla' 'Antigua and Barbuda' 'Argentina' 'Armenia' 'Aruba'\n",
      " 'Asia' 'Australia' 'Austria' 'Azerbaijan' 'Bahamas' 'Bahrain'\n",
      " 'Bangladesh' 'Barbados' 'Belarus' 'Belgium' 'Belize' 'Benin' 'Bermuda'\n",
      " 'Bhutan' 'Bolivia' 'Bonaire Sint Eustatius and Saba'\n",
      " 'Bosnia and Herzegovina' 'Botswana' 'Brazil' 'British Virgin Islands'\n",
      " 'Brunei' 'Bulgaria' 'Burkina Faso' 'Burundi' 'Cambodia' 'Cameroon'\n",
      " 'Canada' 'Cape Verde' 'Cayman Islands' 'Central African Republic' 'Chad'\n",
      " 'Chile' 'China' 'Colombia' 'Comoros' 'Congo' 'Cook Islands' 'Costa Rica'\n",
      " \"Cote d'Ivoire\" 'Croatia' 'Cuba' 'Curacao' 'Cyprus' 'Czechia'\n",
      " 'Democratic Republic of Congo' 'Denmark' 'Djibouti' 'Dominica'\n",
      " 'Dominican Republic' 'Ecuador' 'Egypt' 'El Salvador' 'England'\n",
      " 'Equatorial Guinea' 'Eritrea' 'Estonia' 'Eswatini' 'Ethiopia' 'Europe'\n",
      " 'European Union' 'Faeroe Islands' 'Falkland Islands' 'Fiji' 'Finland'\n",
      " 'France' 'French Guiana' 'French Polynesia' 'Gabon' 'Gambia' 'Georgia'\n",
      " 'Germany' 'Ghana' 'Gibraltar' 'Greece' 'Greenland' 'Grenada' 'Guadeloupe'\n",
      " 'Guam' 'Guatemala' 'Guernsey' 'Guinea' 'Guinea-Bissau' 'Guyana' 'Haiti'\n",
      " 'High income' 'Honduras' 'Hong Kong' 'Hungary' 'Iceland' 'India'\n",
      " 'Indonesia' 'Iran' 'Iraq' 'Ireland' 'Isle of Man' 'Israel' 'Italy'\n",
      " 'Jamaica' 'Japan' 'Jersey' 'Jordan' 'Kazakhstan' 'Kenya' 'Kiribati'\n",
      " 'Kosovo' 'Kuwait' 'Kyrgyzstan' 'Laos' 'Latvia' 'Lebanon' 'Lesotho'\n",
      " 'Liberia' 'Libya' 'Liechtenstein' 'Lithuania' 'Low income'\n",
      " 'Lower middle income' 'Luxembourg' 'Macao' 'Madagascar' 'Malawi'\n",
      " 'Malaysia' 'Maldives' 'Mali' 'Malta' 'Marshall Islands' 'Martinique'\n",
      " 'Mauritania' 'Mauritius' 'Mayotte' 'Mexico' 'Micronesia (country)'\n",
      " 'Moldova' 'Monaco' 'Mongolia' 'Montenegro' 'Montserrat' 'Morocco'\n",
      " 'Mozambique' 'Myanmar' 'Namibia' 'Nauru' 'Nepal' 'Netherlands'\n",
      " 'New Caledonia' 'New Zealand' 'Nicaragua' 'Niger' 'Nigeria' 'Niue'\n",
      " 'North America' 'North Korea' 'North Macedonia' 'Northern Cyprus'\n",
      " 'Northern Ireland' 'Northern Mariana Islands' 'Norway' 'Oceania' 'Oman'\n",
      " 'Pakistan' 'Palau' 'Palestine' 'Panama' 'Papua New Guinea' 'Paraguay'\n",
      " 'Peru' 'Philippines' 'Pitcairn' 'Poland' 'Portugal' 'Puerto Rico' 'Qatar'\n",
      " 'Reunion' 'Romania' 'Russia' 'Rwanda' 'Saint Barthelemy' 'Saint Helena'\n",
      " 'Saint Kitts and Nevis' 'Saint Lucia' 'Saint Martin (French part)'\n",
      " 'Saint Pierre and Miquelon' 'Saint Vincent and the Grenadines' 'Samoa'\n",
      " 'San Marino' 'Sao Tome and Principe' 'Saudi Arabia' 'Scotland' 'Senegal'\n",
      " 'Serbia' 'Seychelles' 'Sierra Leone' 'Singapore'\n",
      " 'Sint Maarten (Dutch part)' 'Slovakia' 'Slovenia' 'Solomon Islands'\n",
      " 'Somalia' 'South Africa' 'South America' 'South Korea' 'South Sudan'\n",
      " 'Spain' 'Sri Lanka' 'Sudan' 'Suriname' 'Sweden' 'Switzerland' 'Syria'\n",
      " 'Taiwan' 'Tajikistan' 'Tanzania' 'Thailand' 'Timor' 'Togo' 'Tokelau'\n",
      " 'Tonga' 'Trinidad and Tobago' 'Tunisia' 'Turkey' 'Turkmenistan'\n",
      " 'Turks and Caicos Islands' 'Tuvalu' 'Uganda' 'Ukraine'\n",
      " 'United Arab Emirates' 'United Kingdom' 'United States'\n",
      " 'United States Virgin Islands' 'Upper middle income' 'Uruguay'\n",
      " 'Uzbekistan' 'Vanuatu' 'Vatican' 'Venezuela' 'Vietnam' 'Wales'\n",
      " 'Wallis and Futuna' 'Western Sahara' 'World' 'Yemen' 'Zambia' 'Zimbabwe']\n",
      "------------------------------\n",
      "Unique values in date:\n",
      "['2020-01-03' '2020-01-04' '2020-01-05' ... '2023-04-12' '2020-01-01'\n",
      " '2020-01-02']\n",
      "------------------------------\n"
     ]
    }
   ],
   "source": [
    "#To see unique values for each one:\n",
    "\n",
    "for col in categorical_columns:\n",
    "    print(f\"Unique values in {col}:\")\n",
    "    print(df[col].unique())\n",
    "    print(\"-\" * 30)"
   ]
  },
  {
   "cell_type": "code",
   "execution_count": 14,
   "id": "68a4f6e6-305d-4abd-b32a-5ee819716b8a",
   "metadata": {},
   "outputs": [
    {
     "data": {
      "text/plain": [
       "np.int64(14352)"
      ]
     },
     "execution_count": 14,
     "metadata": {},
     "output_type": "execute_result"
    }
   ],
   "source": [
    "#Count rows where continent is NaN\n",
    "df['continent'].isna().sum()"
   ]
  },
  {
   "cell_type": "code",
   "execution_count": 15,
   "id": "41d97f76-1f78-496e-b0b0-6cf49bba0a99",
   "metadata": {},
   "outputs": [
    {
     "data": {
      "text/plain": [
       "count     288160\n",
       "unique         6\n",
       "top       Africa\n",
       "freq       68173\n",
       "Name: continent, dtype: object"
      ]
     },
     "execution_count": 15,
     "metadata": {},
     "output_type": "execute_result"
    }
   ],
   "source": [
    "df[\"continent\"].describe()\n"
   ]
  },
  {
   "cell_type": "markdown",
   "id": "b7bd6360-4018-465d-ad60-a7565dec23fa",
   "metadata": {},
   "source": [
    "Step 5: Missing Values Analysis"
   ]
  },
  {
   "cell_type": "code",
   "execution_count": 16,
   "id": "c099039e-9257-4624-ac00-b8e4e3144151",
   "metadata": {},
   "outputs": [
    {
     "name": "stdout",
     "output_type": "stream",
     "text": [
      "Missing continent values: 14352\n",
      "Total rows: 302512\n"
     ]
    }
   ],
   "source": [
    "missing_continent = df['continent'].isna().sum()\n",
    "print(f\"Missing continent values: {missing_continent}\")\n",
    "print(f\"Total rows: {len(df)}\")"
   ]
  },
  {
   "cell_type": "code",
   "execution_count": 17,
   "id": "1672a622-d153-4569-bd1c-f54245452828",
   "metadata": {},
   "outputs": [
    {
     "name": "stdout",
     "output_type": "stream",
     "text": [
      "Columns with missing values:\n",
      "continent                                   14352\n",
      "total_cases                                 35741\n",
      "new_cases                                    8448\n",
      "new_cases_smoothed                           9712\n",
      "total_deaths                                56298\n",
      "                                            ...  \n",
      "human_development_index                     75300\n",
      "excess_mortality_cumulative_absolute       292217\n",
      "excess_mortality_cumulative                292217\n",
      "excess_mortality                           292217\n",
      "excess_mortality_cumulative_per_million    292217\n",
      "Length: 63, dtype: int64\n"
     ]
    }
   ],
   "source": [
    "# Check all missing values\n",
    "missing_values = df.isna().sum()\n",
    "print(\"Columns with missing values:\")\n",
    "print(missing_values[missing_values > 0])\n"
   ]
  },
  {
   "cell_type": "code",
   "execution_count": 18,
   "id": "ac0acea9-c5e2-4c9e-9ed3-2edd01244ea2",
   "metadata": {},
   "outputs": [
    {
     "name": "stdout",
     "output_type": "stream",
     "text": [
      "\n",
      "Missing values percentage:\n",
      "continent                                   4.744275\n",
      "total_cases                                11.814738\n",
      "new_cases                                   2.792616\n",
      "new_cases_smoothed                          3.210451\n",
      "total_deaths                               18.610171\n",
      "                                             ...    \n",
      "human_development_index                    24.891575\n",
      "excess_mortality_cumulative_absolute       96.596829\n",
      "excess_mortality_cumulative                96.596829\n",
      "excess_mortality                           96.596829\n",
      "excess_mortality_cumulative_per_million    96.596829\n",
      "Length: 63, dtype: float64\n"
     ]
    }
   ],
   "source": [
    "# Missing values as percentage\n",
    "missing_percent = (df.isna().sum() / len(df)) * 100\n",
    "print(\"\\nMissing values percentage:\")\n",
    "print(missing_percent[missing_percent > 0])"
   ]
  },
  {
   "cell_type": "markdown",
   "id": "c80b9a01-f8a7-4c0f-b718-9841048dce48",
   "metadata": {},
   "source": [
    "Step 6: Data Quality Checks"
   ]
  },
  {
   "cell_type": "code",
   "execution_count": 19,
   "id": "8efd5290-8d63-4a37-8946-258fcc75e4a3",
   "metadata": {},
   "outputs": [
    {
     "name": "stdout",
     "output_type": "stream",
     "text": [
      "Number of duplicate rows: 0\n"
     ]
    }
   ],
   "source": [
    "# Check on duplicates\n",
    "duplicates = df.duplicated().sum()\n",
    "print(f\"Number of duplicate rows: {duplicates}\")"
   ]
  },
  {
   "cell_type": "code",
   "execution_count": 20,
   "id": "577160e2-7c8c-472a-b72b-a2013db16912",
   "metadata": {},
   "outputs": [
    {
     "name": "stdout",
     "output_type": "stream",
     "text": [
      "Numeric columns: ['total_cases', 'new_cases', 'new_cases_smoothed', 'total_deaths', 'new_deaths', 'new_deaths_smoothed', 'total_cases_per_million', 'new_cases_per_million', 'new_cases_smoothed_per_million', 'total_deaths_per_million', 'new_deaths_per_million', 'new_deaths_smoothed_per_million', 'reproduction_rate', 'icu_patients', 'icu_patients_per_million', 'hosp_patients', 'hosp_patients_per_million', 'weekly_icu_admissions', 'weekly_icu_admissions_per_million', 'weekly_hosp_admissions', 'weekly_hosp_admissions_per_million', 'total_tests', 'new_tests', 'total_tests_per_thousand', 'new_tests_per_thousand', 'new_tests_smoothed', 'new_tests_smoothed_per_thousand', 'positive_rate', 'tests_per_case', 'total_vaccinations', 'people_vaccinated', 'people_fully_vaccinated', 'total_boosters', 'new_vaccinations', 'new_vaccinations_smoothed', 'total_vaccinations_per_hundred', 'people_vaccinated_per_hundred', 'people_fully_vaccinated_per_hundred', 'total_boosters_per_hundred', 'new_vaccinations_smoothed_per_million', 'new_people_vaccinated_smoothed', 'new_people_vaccinated_smoothed_per_hundred', 'stringency_index', 'population_density', 'median_age', 'aged_65_older', 'aged_70_older', 'gdp_per_capita', 'extreme_poverty', 'cardiovasc_death_rate', 'diabetes_prevalence', 'female_smokers', 'male_smokers', 'handwashing_facilities', 'hospital_beds_per_thousand', 'life_expectancy', 'human_development_index', 'population', 'excess_mortality_cumulative_absolute', 'excess_mortality_cumulative', 'excess_mortality', 'excess_mortality_cumulative_per_million']\n"
     ]
    }
   ],
   "source": [
    "# Select columns based on dtype\n",
    "numeric_columns = df.select_dtypes(include=[\"number\"]).columns.to_list()\n",
    "# Display numeric columns\n",
    "print(f\"Numeric columns: {numeric_columns}\")"
   ]
  },
  {
   "cell_type": "code",
   "execution_count": 21,
   "id": "823eaad4-7277-48ff-aebf-9b39cd95ee16",
   "metadata": {},
   "outputs": [
    {
     "name": "stdout",
     "output_type": "stream",
     "text": [
      "Minimum values:\n",
      "excess_mortality_cumulative_absolute      -37726.0980\n",
      "excess_mortality_cumulative_per_million    -1984.2816\n",
      "excess_mortality                             -95.9200\n",
      "excess_mortality_cumulative                  -44.2300\n",
      "reproduction_rate                             -0.0700\n",
      "new_tests_smoothed                             0.0000\n",
      "new_tests_smoothed_per_thousand                0.0000\n",
      "positive_rate                                  0.0000\n",
      "total_vaccinations                             0.0000\n",
      "new_vaccinations                               0.0000\n",
      "new_vaccinations_smoothed                      0.0000\n",
      "total_vaccinations_per_hundred                 0.0000\n",
      "people_vaccinated_per_hundred                  0.0000\n",
      "people_fully_vaccinated_per_hundred            0.0000\n",
      "total_boosters_per_hundred                     0.0000\n",
      "dtype: float64\n"
     ]
    }
   ],
   "source": [
    "# Check for minimum in numeric columns\n",
    "min_values = df[numeric_columns].min().sort_values(ascending=True)\n",
    "\n",
    "print(f\"Minimum values:\\n{min_values.head(15)}\")"
   ]
  },
  {
   "cell_type": "markdown",
   "id": "f14b9fb8-317e-4a68-8e97-229182f022fe",
   "metadata": {},
   "source": [
    "Step 7: Data Cleaning"
   ]
  },
  {
   "cell_type": "code",
   "execution_count": 22,
   "id": "79622fb8-25cc-4c8a-8996-19f08388de65",
   "metadata": {},
   "outputs": [],
   "source": [
    "# Replace negative values with absolute values\n",
    "df[numeric_columns] = df[numeric_columns].abs()"
   ]
  },
  {
   "cell_type": "code",
   "execution_count": 23,
   "id": "6dabd614-91e4-4eda-b275-61083f6abe8b",
   "metadata": {},
   "outputs": [
    {
     "name": "stdout",
     "output_type": "stream",
     "text": [
      "New minimum values:\n",
      "people_vaccinated                             0.0\n",
      "new_people_vaccinated_smoothed_per_hundred    0.0\n",
      "total_tests_per_thousand                      0.0\n",
      "new_tests_per_thousand                        0.0\n",
      "new_tests_smoothed                            0.0\n",
      "new_tests_smoothed_per_thousand               0.0\n",
      "positive_rate                                 0.0\n",
      "total_vaccinations                            0.0\n",
      "weekly_hosp_admissions_per_million            0.0\n",
      "excess_mortality                              0.0\n",
      "new_vaccinations_smoothed                     0.0\n",
      "total_vaccinations_per_hundred                0.0\n",
      "people_vaccinated_per_hundred                 0.0\n",
      "people_fully_vaccinated_per_hundred           0.0\n",
      "total_boosters_per_hundred                    0.0\n",
      "dtype: float64\n"
     ]
    }
   ],
   "source": [
    "# Check new minimum values\n",
    "new_min_values = df[numeric_columns].min().sort_values(ascending=True)\n",
    "print(f\"New minimum values:\\n{new_min_values.head(15)}\")"
   ]
  },
  {
   "cell_type": "code",
   "execution_count": 24,
   "id": "30c1bea9-315c-404a-9715-06fc6aea50a7",
   "metadata": {},
   "outputs": [],
   "source": [
    "# Fill NaN values with 0 in numeric columns\n",
    "df[numeric_columns] = df[numeric_columns].fillna(0)"
   ]
  },
  {
   "cell_type": "code",
   "execution_count": 25,
   "id": "ab8d62c9-f4e8-4b71-bf43-4b94f3d5430b",
   "metadata": {},
   "outputs": [
    {
     "name": "stdout",
     "output_type": "stream",
     "text": [
      "Null values after cleaning:\n",
      "total_cases                                0\n",
      "new_cases                                  0\n",
      "new_cases_smoothed                         0\n",
      "total_deaths                               0\n",
      "new_deaths                                 0\n",
      "                                          ..\n",
      "population                                 0\n",
      "excess_mortality_cumulative_absolute       0\n",
      "excess_mortality_cumulative                0\n",
      "excess_mortality                           0\n",
      "excess_mortality_cumulative_per_million    0\n",
      "Length: 62, dtype: int64\n"
     ]
    }
   ],
   "source": [
    "# Check for null values after cleaning\n",
    "print(\"Null values after cleaning:\")\n",
    "print(df[numeric_columns].isnull().sum())"
   ]
  },
  {
   "cell_type": "markdown",
   "id": "25291370-852f-49f5-98cb-27b93f277ef4",
   "metadata": {},
   "source": [
    "Step 8: Handle Object Columns and High Missing Values"
   ]
  },
  {
   "cell_type": "code",
   "execution_count": 26,
   "id": "ed52c969-2022-46b3-9c5e-f1a4e0250b60",
   "metadata": {},
   "outputs": [
    {
     "name": "stdout",
     "output_type": "stream",
     "text": [
      "Object columns: ['iso_code', 'continent', 'location', 'date', 'tests_units']\n"
     ]
    }
   ],
   "source": [
    "# Check object columns\n",
    "object_columns = df.select_dtypes(include=[\"object\"]).columns.to_list()\n",
    "print(f\"Object columns: {object_columns}\")"
   ]
  },
  {
   "cell_type": "code",
   "execution_count": 27,
   "id": "ebfb6d08-0b70-45cd-8bd7-e56dde7541b7",
   "metadata": {},
   "outputs": [
    {
     "name": "stdout",
     "output_type": "stream",
     "text": [
      "Missing values in object columns:\n",
      "tests_units    64.699582\n",
      "continent       4.744275\n",
      "dtype: float64\n"
     ]
    }
   ],
   "source": [
    "# Check % of null values for object columns\n",
    "missing_values_obj = df[object_columns].isnull().sum() / len(df) * 100\n",
    "missing_values_obj = missing_values_obj[missing_values_obj > 0].sort_values(ascending=False)\n",
    "print(f\"Missing values in object columns:\\n{missing_values_obj}\")"
   ]
  },
  {
   "cell_type": "code",
   "execution_count": 28,
   "id": "fc616061-f905-4872-bdb9-f7491871d0ba",
   "metadata": {},
   "outputs": [
    {
     "name": "stdout",
     "output_type": "stream",
     "text": [
      "Top 5 columns with most missing values:\n",
      "tests_units                    195724\n",
      "continent                       14352\n",
      "excess_mortality                    0\n",
      "excess_mortality_cumulative         0\n",
      "people_vaccinated                   0\n",
      "dtype: int64\n"
     ]
    }
   ],
   "source": [
    "# Check columns with highest missing values\n",
    "print(\"Top 5 columns with most missing values:\")\n",
    "print(df.isna().sum().sort_values(ascending=False).head())"
   ]
  },
  {
   "cell_type": "code",
   "execution_count": 29,
   "id": "dc58ad80-2dca-49ea-aeb0-24354d2bdf80",
   "metadata": {},
   "outputs": [],
   "source": [
    "# Drop tests_units column\n",
    "df.drop(columns=[\"tests_units\"], inplace=True)"
   ]
  },
  {
   "cell_type": "code",
   "execution_count": 30,
   "id": "8f2b15b1-8c95-4999-bfc8-2a77bb97f98e",
   "metadata": {},
   "outputs": [],
   "source": [
    "# Drop rows with missing continent\n",
    "df.dropna(subset=[\"continent\"], inplace=True)"
   ]
  },
  {
   "cell_type": "code",
   "execution_count": 31,
   "id": "75f45f55-fcf5-4ad1-b991-6ead2d9f432f",
   "metadata": {},
   "outputs": [],
   "source": [
    "# Drop columns with >90% missing values\n",
    "cols_to_drop = [\n",
    "    'excess_mortality_cumulative_absolute',\n",
    "    'excess_mortality_cumulative',\n",
    "    'excess_mortality_cumulative_per_million'\n",
    "]\n"
   ]
  },
  {
   "cell_type": "code",
   "execution_count": 32,
   "id": "726a739a-f0c3-4dbd-971c-78dfcb30a0cf",
   "metadata": {},
   "outputs": [
    {
     "name": "stdout",
     "output_type": "stream",
     "text": [
      "Dropped columns: ['excess_mortality_cumulative_absolute', 'excess_mortality_cumulative', 'excess_mortality_cumulative_per_million']\n"
     ]
    }
   ],
   "source": [
    "df.drop(columns=cols_to_drop, inplace=True)\n",
    "print(\"Dropped columns:\", cols_to_drop)\n",
    "\n"
   ]
  },
  {
   "cell_type": "code",
   "execution_count": 33,
   "id": "9bc7bd7c-e2c4-4850-beef-33b367b03c4a",
   "metadata": {},
   "outputs": [
    {
     "name": "stdout",
     "output_type": "stream",
     "text": [
      "Total remaining null values: 0\n"
     ]
    }
   ],
   "source": [
    "# Final check on null values\n",
    "print(f\"Total remaining null values: {df.isna().sum().sum()}\")"
   ]
  },
  {
   "cell_type": "markdown",
   "id": "3bf9c49f-5221-4520-8909-9b62e4311a2a",
   "metadata": {},
   "source": [
    "Step 9: Final Verification\n"
   ]
  },
  {
   "cell_type": "code",
   "execution_count": 34,
   "id": "37c705ef-da29-44ce-a909-fac2a8e1f35a",
   "metadata": {},
   "outputs": [
    {
     "name": "stdout",
     "output_type": "stream",
     "text": [
      "=== FINAL DATASET INFO ===\n",
      "Shape: (288160, 63)\n",
      "Columns: 63\n",
      "Total null values: 0\n"
     ]
    }
   ],
   "source": [
    "# Final dataset info\n",
    "print(\"=== FINAL DATASET INFO ===\")\n",
    "print(f\"Shape: {df.shape}\")\n",
    "print(f\"Columns: {len(df.columns)}\")\n",
    "print(f\"Total null values: {df.isna().sum().sum()}\")\n"
   ]
  },
  {
   "cell_type": "code",
   "execution_count": 35,
   "id": "e4ee8b7a-7dcd-43f8-9499-2a548cfc99c7",
   "metadata": {},
   "outputs": [
    {
     "data": {
      "text/html": [
       "<div>\n",
       "<style scoped>\n",
       "    .dataframe tbody tr th:only-of-type {\n",
       "        vertical-align: middle;\n",
       "    }\n",
       "\n",
       "    .dataframe tbody tr th {\n",
       "        vertical-align: top;\n",
       "    }\n",
       "\n",
       "    .dataframe thead th {\n",
       "        text-align: right;\n",
       "    }\n",
       "</style>\n",
       "<table border=\"1\" class=\"dataframe\">\n",
       "  <thead>\n",
       "    <tr style=\"text-align: right;\">\n",
       "      <th></th>\n",
       "      <th>iso_code</th>\n",
       "      <th>continent</th>\n",
       "      <th>location</th>\n",
       "      <th>date</th>\n",
       "      <th>total_cases</th>\n",
       "      <th>new_cases</th>\n",
       "      <th>new_cases_smoothed</th>\n",
       "      <th>total_deaths</th>\n",
       "      <th>new_deaths</th>\n",
       "      <th>new_deaths_smoothed</th>\n",
       "      <th>...</th>\n",
       "      <th>cardiovasc_death_rate</th>\n",
       "      <th>diabetes_prevalence</th>\n",
       "      <th>female_smokers</th>\n",
       "      <th>male_smokers</th>\n",
       "      <th>handwashing_facilities</th>\n",
       "      <th>hospital_beds_per_thousand</th>\n",
       "      <th>life_expectancy</th>\n",
       "      <th>human_development_index</th>\n",
       "      <th>population</th>\n",
       "      <th>excess_mortality</th>\n",
       "    </tr>\n",
       "  </thead>\n",
       "  <tbody>\n",
       "    <tr>\n",
       "      <th>0</th>\n",
       "      <td>AFG</td>\n",
       "      <td>Asia</td>\n",
       "      <td>Afghanistan</td>\n",
       "      <td>2020-01-03</td>\n",
       "      <td>0.0</td>\n",
       "      <td>0.0</td>\n",
       "      <td>0.0</td>\n",
       "      <td>0.0</td>\n",
       "      <td>0.0</td>\n",
       "      <td>0.0</td>\n",
       "      <td>...</td>\n",
       "      <td>597.029</td>\n",
       "      <td>9.59</td>\n",
       "      <td>0.0</td>\n",
       "      <td>0.0</td>\n",
       "      <td>37.746</td>\n",
       "      <td>0.5</td>\n",
       "      <td>64.83</td>\n",
       "      <td>0.511</td>\n",
       "      <td>41128772.0</td>\n",
       "      <td>0.0</td>\n",
       "    </tr>\n",
       "    <tr>\n",
       "      <th>1</th>\n",
       "      <td>AFG</td>\n",
       "      <td>Asia</td>\n",
       "      <td>Afghanistan</td>\n",
       "      <td>2020-01-04</td>\n",
       "      <td>0.0</td>\n",
       "      <td>0.0</td>\n",
       "      <td>0.0</td>\n",
       "      <td>0.0</td>\n",
       "      <td>0.0</td>\n",
       "      <td>0.0</td>\n",
       "      <td>...</td>\n",
       "      <td>597.029</td>\n",
       "      <td>9.59</td>\n",
       "      <td>0.0</td>\n",
       "      <td>0.0</td>\n",
       "      <td>37.746</td>\n",
       "      <td>0.5</td>\n",
       "      <td>64.83</td>\n",
       "      <td>0.511</td>\n",
       "      <td>41128772.0</td>\n",
       "      <td>0.0</td>\n",
       "    </tr>\n",
       "    <tr>\n",
       "      <th>2</th>\n",
       "      <td>AFG</td>\n",
       "      <td>Asia</td>\n",
       "      <td>Afghanistan</td>\n",
       "      <td>2020-01-05</td>\n",
       "      <td>0.0</td>\n",
       "      <td>0.0</td>\n",
       "      <td>0.0</td>\n",
       "      <td>0.0</td>\n",
       "      <td>0.0</td>\n",
       "      <td>0.0</td>\n",
       "      <td>...</td>\n",
       "      <td>597.029</td>\n",
       "      <td>9.59</td>\n",
       "      <td>0.0</td>\n",
       "      <td>0.0</td>\n",
       "      <td>37.746</td>\n",
       "      <td>0.5</td>\n",
       "      <td>64.83</td>\n",
       "      <td>0.511</td>\n",
       "      <td>41128772.0</td>\n",
       "      <td>0.0</td>\n",
       "    </tr>\n",
       "    <tr>\n",
       "      <th>3</th>\n",
       "      <td>AFG</td>\n",
       "      <td>Asia</td>\n",
       "      <td>Afghanistan</td>\n",
       "      <td>2020-01-06</td>\n",
       "      <td>0.0</td>\n",
       "      <td>0.0</td>\n",
       "      <td>0.0</td>\n",
       "      <td>0.0</td>\n",
       "      <td>0.0</td>\n",
       "      <td>0.0</td>\n",
       "      <td>...</td>\n",
       "      <td>597.029</td>\n",
       "      <td>9.59</td>\n",
       "      <td>0.0</td>\n",
       "      <td>0.0</td>\n",
       "      <td>37.746</td>\n",
       "      <td>0.5</td>\n",
       "      <td>64.83</td>\n",
       "      <td>0.511</td>\n",
       "      <td>41128772.0</td>\n",
       "      <td>0.0</td>\n",
       "    </tr>\n",
       "    <tr>\n",
       "      <th>4</th>\n",
       "      <td>AFG</td>\n",
       "      <td>Asia</td>\n",
       "      <td>Afghanistan</td>\n",
       "      <td>2020-01-07</td>\n",
       "      <td>0.0</td>\n",
       "      <td>0.0</td>\n",
       "      <td>0.0</td>\n",
       "      <td>0.0</td>\n",
       "      <td>0.0</td>\n",
       "      <td>0.0</td>\n",
       "      <td>...</td>\n",
       "      <td>597.029</td>\n",
       "      <td>9.59</td>\n",
       "      <td>0.0</td>\n",
       "      <td>0.0</td>\n",
       "      <td>37.746</td>\n",
       "      <td>0.5</td>\n",
       "      <td>64.83</td>\n",
       "      <td>0.511</td>\n",
       "      <td>41128772.0</td>\n",
       "      <td>0.0</td>\n",
       "    </tr>\n",
       "  </tbody>\n",
       "</table>\n",
       "<p>5 rows × 63 columns</p>\n",
       "</div>"
      ],
      "text/plain": [
       "  iso_code continent     location        date  total_cases  new_cases  \\\n",
       "0      AFG      Asia  Afghanistan  2020-01-03          0.0        0.0   \n",
       "1      AFG      Asia  Afghanistan  2020-01-04          0.0        0.0   \n",
       "2      AFG      Asia  Afghanistan  2020-01-05          0.0        0.0   \n",
       "3      AFG      Asia  Afghanistan  2020-01-06          0.0        0.0   \n",
       "4      AFG      Asia  Afghanistan  2020-01-07          0.0        0.0   \n",
       "\n",
       "   new_cases_smoothed  total_deaths  new_deaths  new_deaths_smoothed  ...  \\\n",
       "0                 0.0           0.0         0.0                  0.0  ...   \n",
       "1                 0.0           0.0         0.0                  0.0  ...   \n",
       "2                 0.0           0.0         0.0                  0.0  ...   \n",
       "3                 0.0           0.0         0.0                  0.0  ...   \n",
       "4                 0.0           0.0         0.0                  0.0  ...   \n",
       "\n",
       "   cardiovasc_death_rate  diabetes_prevalence  female_smokers  male_smokers  \\\n",
       "0                597.029                 9.59             0.0           0.0   \n",
       "1                597.029                 9.59             0.0           0.0   \n",
       "2                597.029                 9.59             0.0           0.0   \n",
       "3                597.029                 9.59             0.0           0.0   \n",
       "4                597.029                 9.59             0.0           0.0   \n",
       "\n",
       "   handwashing_facilities  hospital_beds_per_thousand  life_expectancy  \\\n",
       "0                  37.746                         0.5            64.83   \n",
       "1                  37.746                         0.5            64.83   \n",
       "2                  37.746                         0.5            64.83   \n",
       "3                  37.746                         0.5            64.83   \n",
       "4                  37.746                         0.5            64.83   \n",
       "\n",
       "   human_development_index  population  excess_mortality  \n",
       "0                    0.511  41128772.0               0.0  \n",
       "1                    0.511  41128772.0               0.0  \n",
       "2                    0.511  41128772.0               0.0  \n",
       "3                    0.511  41128772.0               0.0  \n",
       "4                    0.511  41128772.0               0.0  \n",
       "\n",
       "[5 rows x 63 columns]"
      ]
     },
     "execution_count": 35,
     "metadata": {},
     "output_type": "execute_result"
    }
   ],
   "source": [
    "# Check the cleaned data\n",
    "df.head()"
   ]
  },
  {
   "cell_type": "markdown",
   "id": "73378d04-e30c-4e04-9135-b67c3800f7a2",
   "metadata": {},
   "source": [
    "Step 10: Date Processing and Time Analysis"
   ]
  },
  {
   "cell_type": "code",
   "execution_count": 36,
   "id": "4084565e-5e0d-4825-84b3-f41b33dadd9b",
   "metadata": {},
   "outputs": [],
   "source": [
    "# Convert date column to datetime\n",
    "df['date'] = pd.to_datetime(df['date'])"
   ]
  },
  {
   "cell_type": "code",
   "execution_count": 37,
   "id": "fe54631e-e293-44e4-8796-4303a563774e",
   "metadata": {},
   "outputs": [],
   "source": [
    "# Extract year and month for time-based analysis\n",
    "df['year'] = df['date'].dt.year\n",
    "df['month'] = df['date'].dt.month\n",
    "df['year_month'] = df['date'].dt.to_period('M')"
   ]
  },
  {
   "cell_type": "code",
   "execution_count": 38,
   "id": "1acbb8a3-d534-4e7f-a113-d9385f408868",
   "metadata": {},
   "outputs": [
    {
     "name": "stdout",
     "output_type": "stream",
     "text": [
      "Date range of data:\n",
      "Start: 2020-01-01 00:00:00\n",
      "End: 2023-04-12 00:00:00\n",
      "Total days: 1197\n"
     ]
    }
   ],
   "source": [
    "print(\"Date range of data:\")\n",
    "print(f\"Start: {df['date'].min()}\")\n",
    "print(f\"End: {df['date'].max()}\")\n",
    "print(f\"Total days: {(df['date'].max() - df['date'].min()).days}\")"
   ]
  },
  {
   "cell_type": "markdown",
   "id": "7bd0584a-0fac-4367-9af1-34740c9d76bb",
   "metadata": {},
   "source": [
    "Step 11: Basic Visualizations - Let's See the Data"
   ]
  },
  {
   "cell_type": "code",
   "execution_count": 39,
   "id": "223ab408-c044-4d01-99b0-5c13d0252268",
   "metadata": {},
   "outputs": [],
   "source": [
    "# Set up the plotting style\n",
    "plt.style.use('default')\n",
    "sns.set_palette(\"husl\")"
   ]
  },
  {
   "cell_type": "code",
   "execution_count": 40,
   "id": "e3ab33b4-7f96-40a1-b40d-22ba3089cb4f",
   "metadata": {},
   "outputs": [
    {
     "name": "stdout",
     "output_type": "stream",
     "text": [
      "=== Global COVID-19 Trends ===\n"
     ]
    }
   ],
   "source": [
    "# 1. COVID-19 Cases Over Time (Global)\n",
    "print(\"=== Global COVID-19 Trends ===\")"
   ]
  },
  {
   "cell_type": "code",
   "execution_count": 41,
   "id": "e4ec8009-6346-4602-958b-a11feb34b63e",
   "metadata": {},
   "outputs": [],
   "source": [
    "# Group by date to get global totals\n",
    "global_daily = df.groupby('date').agg({\n",
    "    'new_cases': 'sum',\n",
    "    'new_deaths': 'sum'\n",
    "}).reset_index()\n"
   ]
  },
  {
   "cell_type": "markdown",
   "id": "aae1eaa0-76da-475b-ae85-37464c1260b8",
   "metadata": {},
   "source": [
    "Exploratory Data Analysis"
   ]
  },
  {
   "cell_type": "code",
   "execution_count": 42,
   "id": "ba92e2a2-0d10-4363-afc9-72d568e670c4",
   "metadata": {},
   "outputs": [
    {
     "data": {
      "text/plain": [
       "np.int64(0)"
      ]
     },
     "execution_count": 42,
     "metadata": {},
     "output_type": "execute_result"
    }
   ],
   "source": [
    "# Check on the null values\n",
    "df.isna().sum().sum()"
   ]
  },
  {
   "cell_type": "code",
   "execution_count": 46,
   "id": "91dff31d-1730-4368-929d-e0caaa739e4a",
   "metadata": {},
   "outputs": [],
   "source": [
    "# Example: remove rows with missing 'year' values\n",
    "df_clean = df.dropna(subset=['year'])"
   ]
  },
  {
   "cell_type": "code",
   "execution_count": 47,
   "id": "155e6667-8967-43c1-83d0-0d30ce2b59d6",
   "metadata": {},
   "outputs": [],
   "source": [
    "# Make sure 'year' is integer\n",
    "df_clean['year'] = df_clean['year'].astype(int)"
   ]
  },
  {
   "cell_type": "code",
   "execution_count": 49,
   "id": "cf6e9038-d0a5-404f-b27f-f3e1e31a877f",
   "metadata": {},
   "outputs": [
    {
     "data": {
      "image/png": "[encoded data removed]",
      "text/plain": [
       "<Figure size 1000x500 with 1 Axes>"
      ]
     },
     "metadata": {},
     "output_type": "display_data"
    }
   ],
   "source": [
    "# 1. Count papers by publication year\n",
    "papers_by_year = df_clean['year'].value_counts().sort_index()\n",
    "plt.figure(figsize=(10,5))\n",
    "papers_by_year.plot (kind ='bar')\n",
    "plt.title(\"Papers by Publication Year\")\n",
    "plt.xlabel(\"Year\")\n",
    "plt.ylabel(\"Count\")\n",
    "plt.show()"
   ]
  },
  {
   "cell_type": "code",
   "execution_count": 50,
   "id": "a99196d1-297a-484b-9e15-c56a79b7d7fd",
   "metadata": {},
   "outputs": [
    {
     "data": {
      "image/png": "[encoded data removed]",
      "text/plain": [
       "<Figure size 1000x500 with 1 Axes>"
      ]
     },
     "metadata": {},
     "output_type": "display_data"
    },
    {
     "name": "stdout",
     "output_type": "stream",
     "text": [
      "Cases by year:\n",
      "year\n",
      "2020     82956627.0\n",
      "2021    204178234.0\n",
      "2022    445863292.0\n",
      "2023     30130105.0\n",
      "Name: new_cases, dtype: float64\n"
     ]
    }
   ],
   "source": [
    "# 1. Count COVID-19 cases by year (not papers!)\n",
    "cases_by_year = df.groupby('year')['new_cases'].sum().sort_index()\n",
    "\n",
    "plt.figure(figsize=(10,5))\n",
    "cases_by_year.plot(kind='bar', color='skyblue')\n",
    "plt.title(\"COVID-19 Cases by Year\")\n",
    "plt.xlabel(\"Year\")\n",
    "plt.ylabel(\"Total Cases\")\n",
    "plt.xticks(rotation=45)\n",
    "plt.show()\n",
    "\n",
    "print(\"Cases by year:\")\n",
    "print(cases_by_year)"
   ]
  },
  {
   "cell_type": "code",
   "execution_count": 51,
   "id": "aeab3114-97dc-4912-8512-595a8b91de69",
   "metadata": {},
   "outputs": [
    {
     "data": {
      "image/png": "[encoded data removed]",
      "text/plain": [
       "<Figure size 1200x600 with 1 Axes>"
      ]
     },
     "metadata": {},
     "output_type": "display_data"
    },
    {
     "name": "stdout",
     "output_type": "stream",
     "text": [
      "Top 10 countries by total cases:\n",
      "location\n",
      "United States     102873924.0\n",
      "China              99239252.0\n",
      "India              44768172.0\n",
      "France             38791479.0\n",
      "Germany            38368891.0\n",
      "Brazil             37319254.0\n",
      "Japan              33523927.0\n",
      "South Korea        30918060.0\n",
      "Italy              25715384.0\n",
      "United Kingdom     24330379.0\n",
      "Name: total_cases, dtype: float64\n"
     ]
    }
   ],
   "source": [
    "# 2. Top countries by total COVID-19 cases (instead of top journals)\n",
    "top_countries = df.groupby('location')['total_cases'].max().sort_values(ascending=False).head(10)\n",
    "\n",
    "plt.figure(figsize=(12,6))\n",
    "top_countries.plot(kind='barh', color='lightcoral')\n",
    "plt.title(\"Top 10 Countries by Total COVID-19 Cases\")\n",
    "plt.xlabel(\"Total Cases\")\n",
    "plt.gca().invert_yaxis()  # Highest at top\n",
    "plt.tight_layout()\n",
    "plt.show()\n",
    "\n",
    "print(\"Top 10 countries by total cases:\")\n",
    "print(top_countries)"
   ]
  },
  {
   "cell_type": "code",
   "execution_count": 52,
   "id": "7c663a67-7979-43db-9c4a-30bee38d8bb9",
   "metadata": {},
   "outputs": [
    {
     "data": {
      "image/png": "[encoded data removed]",
      "text/plain": [
       "<Figure size 1000x500 with 1 Axes>"
      ]
     },
     "metadata": {},
     "output_type": "display_data"
    },
    {
     "name": "stdout",
     "output_type": "stream",
     "text": [
      "Cases by continent:\n",
      "continent\n",
      "North America    102873924.0\n",
      "Asia              99239252.0\n",
      "Europe            38791479.0\n",
      "South America     37319254.0\n",
      "Oceania           11153745.0\n",
      "Africa             4072533.0\n",
      "Name: total_cases, dtype: float64\n"
     ]
    }
   ],
   "source": [
    "# 3. Top continents by total cases\n",
    "top_continents = df.groupby('continent')['total_cases'].max().sort_values(ascending=False)\n",
    "\n",
    "plt.figure(figsize=(10,5))\n",
    "top_continents.plot(kind='bar', color='lightgreen')\n",
    "plt.title(\"Total COVID-19 Cases by Continent\")\n",
    "plt.xlabel(\"Continent\")\n",
    "plt.ylabel(\"Total Cases\")\n",
    "plt.xticks(rotation=45)\n",
    "plt.show()\n",
    "\n",
    "print(\"Cases by continent:\")\n",
    "print(top_continents)"
   ]
  },
  {
   "cell_type": "code",
   "execution_count": 53,
   "id": "b571674a-e940-4b23-9a93-738b1f39c830",
   "metadata": {},
   "outputs": [
    {
     "data": {
      "image/png": "[encoded data removed]",
      "text/plain": [
       "<Figure size 1200x600 with 1 Axes>"
      ]
     },
     "metadata": {},
     "output_type": "display_data"
    }
   ],
   "source": [
    "# 4. COVID-19 timeline (global cases over time)\n",
    "global_daily = df.groupby('date').agg({\n",
    "    'new_cases': 'sum',\n",
    "    'new_deaths': 'sum'\n",
    "}).reset_index()\n",
    "\n",
    "plt.figure(figsize=(12,6))\n",
    "plt.plot(global_daily['date'], global_daily['new_cases'], label='New Cases', linewidth=1, alpha=0.8)\n",
    "plt.title('Global Daily COVID-19 Cases Over Time')\n",
    "plt.xlabel('Date')\n",
    "plt.ylabel('Daily Cases')\n",
    "plt.grid(True, alpha=0.3)\n",
    "plt.legend()\n",
    "plt.tight_layout()\n",
    "plt.show()"
   ]
  },
  {
   "cell_type": "code",
   "execution_count": 54,
   "id": "97cb2421-1600-4d67-aec5-7b66bf894c46",
   "metadata": {},
   "outputs": [
    {
     "data": {
      "image/png": "[encoded data removed]",
      "text/plain": [
       "<Figure size 1200x600 with 1 Axes>"
      ]
     },
     "metadata": {},
     "output_type": "display_data"
    },
    {
     "name": "stdout",
     "output_type": "stream",
     "text": [
      "Countries with highest average restrictions:\n",
      "location\n",
      "China          64.239365\n",
      "Myanmar        58.405493\n",
      "Honduras       57.592876\n",
      "Azerbaijan     54.876246\n",
      "Iran           54.375468\n",
      "Hong Kong      54.138798\n",
      "Philippines    53.592074\n",
      "Iraq           53.499164\n",
      "Zimbabwe       53.393169\n",
      "India          53.026965\n",
      "Name: stringency_index, dtype: float64\n"
     ]
    }
   ],
   "source": [
    "# 5. Government response comparison (stringency index)\n",
    "# Get the average stringency index by country\n",
    "stringency_by_country = df.groupby('location')['stringency_index'].mean().sort_values(ascending=False).head(15)\n",
    "\n",
    "plt.figure(figsize=(12,6))\n",
    "stringency_by_country.plot(kind='barh', color='orange')\n",
    "plt.title('Top 15 Countries by Average Stringency Index')\n",
    "plt.xlabel('Average Stringency Index (0-100)')\n",
    "plt.gca().invert_yaxis()\n",
    "plt.tight_layout()\n",
    "plt.show()\n",
    "\n",
    "print(\"Countries with highest average restrictions:\")\n",
    "print(stringency_by_country.head(10))"
   ]
  },
  {
   "cell_type": "code",
   "execution_count": 55,
   "id": "df4ae2ba-d671-44aa-ab8d-4f06fdbe347b",
   "metadata": {},
   "outputs": [
    {
     "data": {
      "text/plain": [
       "<Figure size 1200x600 with 0 Axes>"
      ]
     },
     "metadata": {},
     "output_type": "display_data"
    },
    {
     "data": {
      "image/png": "[encoded data removed]",
      "text/plain": [
       "<Figure size 640x480 with 1 Axes>"
      ]
     },
     "metadata": {},
     "output_type": "display_data"
    }
   ],
   "source": [
    "# 6. Vaccination progress by continent\n",
    "vax_by_continent = df.groupby(['continent', 'year'])['people_fully_vaccinated_per_hundred'].max().unstack(0)\n",
    "\n",
    "plt.figure(figsize=(12,6))\n",
    "vax_by_continent.plot(kind='line', marker='o')\n",
    "plt.title('Vaccination Progress by Continent Over Time')\n",
    "plt.xlabel('Year')\n",
    "plt.ylabel('Fully Vaccinated (%)')\n",
    "plt.grid(True, alpha=0.3)\n",
    "plt.legend(title='Continent')\n",
    "plt.tight_layout()\n",
    "plt.show()"
   ]
  },
  {
   "cell_type": "code",
   "execution_count": 56,
   "id": "8eb771b3-7768-4224-b6c3-c59bf1c0c737",
   "metadata": {},
   "outputs": [
    {
     "data": {
      "image/png": "[encoded data removed]",
      "text/plain": [
       "<Figure size 1200x600 with 1 Axes>"
      ]
     },
     "metadata": {},
     "output_type": "display_data"
    },
    {
     "name": "stdout",
     "output_type": "stream",
     "text": [
      "Countries with highest hospital strain:\n",
      "location\n",
      "Bulgaria     1526.846\n",
      "Serbia       1416.129\n",
      "Romania      1065.706\n",
      "Lithuania     934.889\n",
      "Czechia       910.235\n",
      "Poland        874.724\n",
      "Croatia       738.395\n",
      "Slovakia      701.343\n",
      "Portugal      668.785\n",
      "Italy         652.247\n",
      "Name: hosp_patients_per_million, dtype: float64\n"
     ]
    }
   ],
   "source": [
    "# 7. Hospital strain analysis - countries with available data\n",
    "# Filter countries that have hospital data\n",
    "countries_with_hospital_data = df[df['hosp_patients'] > 0]['location'].unique()\n",
    "\n",
    "if len(countries_with_hospital_data) > 0:\n",
    "    hospital_strain = df[df['location'].isin(countries_with_hospital_data)]\n",
    "    peak_hospitalizations = hospital_strain.groupby('location')['hosp_patients_per_million'].max().sort_values(ascending=False).head(10)\n",
    "    \n",
    "    plt.figure(figsize=(12,6))\n",
    "    peak_hospitalizations.plot(kind='barh', color='purple')\n",
    "    plt.title('Peak Hospital Patients per Million by Country')\n",
    "    plt.xlabel('Hospital Patients per Million')\n",
    "    plt.gca().invert_yaxis()\n",
    "    plt.tight_layout()\n",
    "    plt.show()\n",
    "    \n",
    "    print(\"Countries with highest hospital strain:\")\n",
    "    print(peak_hospitalizations)\n",
    "else:\n",
    "    print(\"No hospital patient data available in the dataset\")"
   ]
  },
  {
   "cell_type": "code",
   "execution_count": 57,
   "id": "b72c5c82-318b-40e2-b31f-6324131d8930",
   "metadata": {},
   "outputs": [
    {
     "data": {
      "image/png": "[encoded data removed]",
      "text/plain": [
       "<Figure size 1000x800 with 2 Axes>"
      ]
     },
     "metadata": {},
     "output_type": "display_data"
    },
    {
     "name": "stdout",
     "output_type": "stream",
     "text": [
      "Correlation matrix:\n",
      "                                     total_cases_per_million  \\\n",
      "total_cases_per_million                             1.000000   \n",
      "total_deaths_per_million                            0.475003   \n",
      "hospital_beds_per_thousand                          0.236297   \n",
      "stringency_index                                         NaN   \n",
      "people_fully_vaccinated_per_hundred                -0.006396   \n",
      "median_age                                          0.107093   \n",
      "\n",
      "                                     total_deaths_per_million  \\\n",
      "total_cases_per_million                              0.475003   \n",
      "total_deaths_per_million                             1.000000   \n",
      "hospital_beds_per_thousand                           0.364365   \n",
      "stringency_index                                          NaN   \n",
      "people_fully_vaccinated_per_hundred                  0.073666   \n",
      "median_age                                           0.431434   \n",
      "\n",
      "                                     hospital_beds_per_thousand  \\\n",
      "total_cases_per_million                                0.236297   \n",
      "total_deaths_per_million                               0.364365   \n",
      "hospital_beds_per_thousand                             1.000000   \n",
      "stringency_index                                            NaN   \n",
      "people_fully_vaccinated_per_hundred                   -0.021518   \n",
      "median_age                                             0.476832   \n",
      "\n",
      "                                     stringency_index  \\\n",
      "total_cases_per_million                           NaN   \n",
      "total_deaths_per_million                          NaN   \n",
      "hospital_beds_per_thousand                        NaN   \n",
      "stringency_index                                  NaN   \n",
      "people_fully_vaccinated_per_hundred               NaN   \n",
      "median_age                                        NaN   \n",
      "\n",
      "                                     people_fully_vaccinated_per_hundred  \\\n",
      "total_cases_per_million                                        -0.006396   \n",
      "total_deaths_per_million                                        0.073666   \n",
      "hospital_beds_per_thousand                                     -0.021518   \n",
      "stringency_index                                                     NaN   \n",
      "people_fully_vaccinated_per_hundred                             1.000000   \n",
      "median_age                                                      0.145948   \n",
      "\n",
      "                                     median_age  \n",
      "total_cases_per_million                0.107093  \n",
      "total_deaths_per_million               0.431434  \n",
      "hospital_beds_per_thousand             0.476832  \n",
      "stringency_index                            NaN  \n",
      "people_fully_vaccinated_per_hundred    0.145948  \n",
      "median_age                             1.000000  \n"
     ]
    }
   ],
   "source": [
    "# 8. Simple correlation heatmap for key metrics\n",
    "# Select key numerical columns\n",
    "key_metrics = ['total_cases_per_million', 'total_deaths_per_million', \n",
    "               'hospital_beds_per_thousand', 'stringency_index', \n",
    "               'people_fully_vaccinated_per_hundred', 'median_age']\n",
    "\n",
    "# Use the latest data for each country to avoid time-series issues\n",
    "latest_data = df.sort_values('date').groupby('location').last()\n",
    "\n",
    "# Calculate correlations\n",
    "corr_matrix = latest_data[key_metrics].corr()\n",
    "\n",
    "plt.figure(figsize=(10,8))\n",
    "sns.heatmap(corr_matrix, annot=True, cmap='coolwarm', center=0, square=True)\n",
    "plt.title('Correlation Between Key COVID-19 Metrics')\n",
    "plt.tight_layout()\n",
    "plt.show()\n",
    "\n",
    "print(\"Correlation matrix:\")\n",
    "print(corr_matrix)"
   ]
  },
  {
   "cell_type": "markdown",
   "id": "b0f0e154-7e5f-4e58-992a-fb25200d9818",
   "metadata": {},
   "source": [
    "STEP 15: Creating \"Smart Columns\" (Derived Metrics)"
   ]
  },
  {
   "cell_type": "code",
   "execution_count": 58,
   "id": "a2fef9de-535a-40df-8131-481a4a1b1cf4",
   "metadata": {},
   "outputs": [],
   "source": [
    "# Example 1: Mortality Rate (Deaths per 100 cases)\n",
    "# Instead of just counting deaths, we calculate: (Deaths ÷ Cases) × 100\n",
    "df['mortality_rate'] = (df['total_deaths'] / df['total_cases'] * 100)\n",
    "\n",
    "# This tells us: \"Out of every 100 people who got COVID, how many died?\""
   ]
  },
  {
   "cell_type": "code",
   "execution_count": 59,
   "id": "e9c4dff0-f972-427f-9fbf-801d36f7265c",
   "metadata": {},
   "outputs": [],
   "source": [
    "# Example 2: Testing Quality\n",
    "# WHO says: if more than 5% of tests are positive, you're not testing enough\n",
    "df['testing_adequacy'] = np.where(\n",
    "    df['positive_rate'] <= 0.05, \n",
    "    'Doing Enough Testing',\n",
    "    'Not Testing Enough'\n",
    ")\n",
    "\n",
    "# This answers: \"Was this country testing properly?\""
   ]
  },
  {
   "cell_type": "code",
   "execution_count": 60,
   "id": "f78d9529-ab3a-456f-abc6-81404b8a8598",
   "metadata": {},
   "outputs": [
    {
     "data": {
      "text/plain": [
       "testing_adequacy\n",
       "Doing Enough Testing    237902\n",
       "Not Testing Enough       50258\n",
       "Name: count, dtype: int64"
      ]
     },
     "execution_count": 60,
     "metadata": {},
     "output_type": "execute_result"
    }
   ],
   "source": [
    "df['testing_adequacy'].value_counts()\n"
   ]
  },
  {
   "cell_type": "code",
   "execution_count": 61,
   "id": "783af9f7-1ad4-4715-b22a-8b965dc5e8cc",
   "metadata": {},
   "outputs": [
    {
     "data": {
      "text/html": [
       "<div>\n",
       "<style scoped>\n",
       "    .dataframe tbody tr th:only-of-type {\n",
       "        vertical-align: middle;\n",
       "    }\n",
       "\n",
       "    .dataframe tbody tr th {\n",
       "        vertical-align: top;\n",
       "    }\n",
       "\n",
       "    .dataframe thead th {\n",
       "        text-align: right;\n",
       "    }\n",
       "</style>\n",
       "<table border=\"1\" class=\"dataframe\">\n",
       "  <thead>\n",
       "    <tr style=\"text-align: right;\">\n",
       "      <th></th>\n",
       "      <th>location</th>\n",
       "      <th>positive_rate</th>\n",
       "      <th>testing_adequacy</th>\n",
       "    </tr>\n",
       "  </thead>\n",
       "  <tbody>\n",
       "    <tr>\n",
       "      <th>0</th>\n",
       "      <td>Afghanistan</td>\n",
       "      <td>0.0</td>\n",
       "      <td>Doing Enough Testing</td>\n",
       "    </tr>\n",
       "    <tr>\n",
       "      <th>1</th>\n",
       "      <td>Afghanistan</td>\n",
       "      <td>0.0</td>\n",
       "      <td>Doing Enough Testing</td>\n",
       "    </tr>\n",
       "    <tr>\n",
       "      <th>2</th>\n",
       "      <td>Afghanistan</td>\n",
       "      <td>0.0</td>\n",
       "      <td>Doing Enough Testing</td>\n",
       "    </tr>\n",
       "    <tr>\n",
       "      <th>3</th>\n",
       "      <td>Afghanistan</td>\n",
       "      <td>0.0</td>\n",
       "      <td>Doing Enough Testing</td>\n",
       "    </tr>\n",
       "    <tr>\n",
       "      <th>4</th>\n",
       "      <td>Afghanistan</td>\n",
       "      <td>0.0</td>\n",
       "      <td>Doing Enough Testing</td>\n",
       "    </tr>\n",
       "    <tr>\n",
       "      <th>5</th>\n",
       "      <td>Afghanistan</td>\n",
       "      <td>0.0</td>\n",
       "      <td>Doing Enough Testing</td>\n",
       "    </tr>\n",
       "    <tr>\n",
       "      <th>6</th>\n",
       "      <td>Afghanistan</td>\n",
       "      <td>0.0</td>\n",
       "      <td>Doing Enough Testing</td>\n",
       "    </tr>\n",
       "    <tr>\n",
       "      <th>7</th>\n",
       "      <td>Afghanistan</td>\n",
       "      <td>0.0</td>\n",
       "      <td>Doing Enough Testing</td>\n",
       "    </tr>\n",
       "    <tr>\n",
       "      <th>8</th>\n",
       "      <td>Afghanistan</td>\n",
       "      <td>0.0</td>\n",
       "      <td>Doing Enough Testing</td>\n",
       "    </tr>\n",
       "    <tr>\n",
       "      <th>9</th>\n",
       "      <td>Afghanistan</td>\n",
       "      <td>0.0</td>\n",
       "      <td>Doing Enough Testing</td>\n",
       "    </tr>\n",
       "  </tbody>\n",
       "</table>\n",
       "</div>"
      ],
      "text/plain": [
       "      location  positive_rate      testing_adequacy\n",
       "0  Afghanistan            0.0  Doing Enough Testing\n",
       "1  Afghanistan            0.0  Doing Enough Testing\n",
       "2  Afghanistan            0.0  Doing Enough Testing\n",
       "3  Afghanistan            0.0  Doing Enough Testing\n",
       "4  Afghanistan            0.0  Doing Enough Testing\n",
       "5  Afghanistan            0.0  Doing Enough Testing\n",
       "6  Afghanistan            0.0  Doing Enough Testing\n",
       "7  Afghanistan            0.0  Doing Enough Testing\n",
       "8  Afghanistan            0.0  Doing Enough Testing\n",
       "9  Afghanistan            0.0  Doing Enough Testing"
      ]
     },
     "execution_count": 61,
     "metadata": {},
     "output_type": "execute_result"
    }
   ],
   "source": [
    "df[['location', 'positive_rate', 'testing_adequacy']].head(10)\n"
   ]
  },
  {
   "cell_type": "code",
   "execution_count": 62,
   "id": "fc2cb3ed-5e4c-4c59-b2f6-00b61a3113a8",
   "metadata": {},
   "outputs": [],
   "source": [
    "# Example 3: Hospital Pressure\n",
    "df['hospital_strain_level'] = np.where(\n",
    "    df['hosp_patients_per_million'] > 100, 'Hospitals Overwhelmed',\n",
    "    'Hospitals Coping'\n",
    ")\n",
    "\n",
    "# This shows: \"Were hospitals too full during COVID?\""
   ]
  },
  {
   "cell_type": "code",
   "execution_count": 63,
   "id": "41425f7e-b106-4c65-9eb1-444fba139ff5",
   "metadata": {},
   "outputs": [
    {
     "data": {
      "text/plain": [
       "location        hospital_strain_level\n",
       "Mexico          Hospitals Coping         1198\n",
       "Argentina       Hospitals Coping         1198\n",
       "Nicaragua       Hospitals Coping         1196\n",
       "Monaco          Hospitals Coping         1196\n",
       "Mongolia        Hospitals Coping         1196\n",
       "                                         ... \n",
       "Ireland         Hospitals Overwhelmed      47\n",
       "Netherlands     Hospitals Overwhelmed      23\n",
       "South Korea     Hospitals Overwhelmed      12\n",
       "Norway          Hospitals Overwhelmed      12\n",
       "Western Sahara  Hospitals Coping            1\n",
       "Name: count, Length: 282, dtype: int64"
      ]
     },
     "execution_count": 63,
     "metadata": {},
     "output_type": "execute_result"
    }
   ],
   "source": [
    "df[['location','hospital_strain_level']].value_counts()"
   ]
  },
  {
   "cell_type": "code",
   "execution_count": 64,
   "id": "9b3facb7-e438-46ca-b321-3682c5c9b386",
   "metadata": {},
   "outputs": [],
   "source": [
    "# 5. Vaccination progress categories\n",
    "df['vaccination_coverage'] = np.where(\n",
    "    df['people_fully_vaccinated_per_hundred'] >= 70, 'High (≥70%)',\n",
    "    np.where(df['people_fully_vaccinated_per_hundred'] >= 40, 'Medium (40-69%)',\n",
    "    np.where(df['people_fully_vaccinated_per_hundred'] > 0, 'Low (<40%)', 'Not Started'))\n",
    ")"
   ]
  },
  {
   "cell_type": "code",
   "execution_count": 65,
   "id": "33f518bf-439b-4bc1-8136-f1440c2feef8",
   "metadata": {},
   "outputs": [],
   "source": [
    "# 6. Stringency level categories\n",
    "df['restriction_level'] = np.where(\n",
    "    df['stringency_index'] >= 80, 'Very High',\n",
    "    np.where(df['stringency_index'] >= 60, 'High',\n",
    "    np.where(df['stringency_index'] >= 40, 'Medium',\n",
    "    np.where(df['stringency_index'] >= 20, 'Low', 'Very Low'))))"
   ]
  },
  {
   "cell_type": "markdown",
   "id": "671e008d-0cf7-4975-b2a3-b4b55c53511a",
   "metadata": {},
   "source": [
    "Why this matters: These new columns will help us tell the donor story about:\n",
    "\n",
    "Which countries handled COVID best/worst\n",
    "\n",
    "Where hospitals struggled most\n",
    "\n",
    "Who did good testing vs bad testing\n",
    "\n"
   ]
  },
  {
   "cell_type": "code",
   "execution_count": 66,
   "id": "33a2ffc0-f08f-478c-8742-37e2bf09db76",
   "metadata": {},
   "outputs": [],
   "source": [
    "# 7. Healthcare capacity indicator\n",
    "df['healthcare_capacity'] = np.where(\n",
    "    df['hospital_beds_per_thousand'] >= 5, 'Adequate (≥5 beds/1000)',\n",
    "    np.where(df['hospital_beds_per_thousand'] >= 3, 'Moderate (3-4.9 beds/1000)',\n",
    "    np.where(df['hospital_beds_per_thousand'] > 0, 'Low (<3 beds/1000)', 'Unknown'))\n",
    ")"
   ]
  },
  {
   "cell_type": "code",
   "execution_count": 67,
   "id": "a2dccbdf-86e4-4785-858b-ea503a469040",
   "metadata": {},
   "outputs": [
    {
     "name": "stdout",
     "output_type": "stream",
     "text": [
      "✅ Derived metrics created:\n",
      "- mortality_rate: Range 0.00% to inf%\n",
      "- testing_adequacy: {'Doing Enough Testing': 237902, 'Not Testing Enough': 50258}\n",
      "- vaccination_coverage: {'Not Started': 230419, 'Low (<40%)': 23250, 'Medium (40-69%)': 17852, 'High (≥70%)': 16639}\n",
      "- healthcare_capacity: {'Low (<3 beds/1000)': 129170, 'Unknown': 82445, 'Moderate (3-4.9 beds/1000)': 39467, 'Adequate (≥5 beds/1000)': 37078}\n"
     ]
    }
   ],
   "source": [
    "print(\"✅ Derived metrics created:\")\n",
    "print(f\"- mortality_rate: Range {df['mortality_rate'].min():.2f}% to {df['mortality_rate'].max():.2f}%\")\n",
    "print(f\"- testing_adequacy: {df['testing_adequacy'].value_counts().to_dict()}\")\n",
    "print(f\"- vaccination_coverage: {df['vaccination_coverage'].value_counts().to_dict()}\")\n",
    "print(f\"- healthcare_capacity: {df['healthcare_capacity'].value_counts().to_dict()}\")"
   ]
  },
  {
   "cell_type": "code",
   "execution_count": 68,
   "id": "37a19034-2a48-4c8f-bede-20abf566681a",
   "metadata": {},
   "outputs": [
    {
     "name": "stdout",
     "output_type": "stream",
     "text": [
      "\n",
      "Sample of derived metrics:\n",
      "   excess_mortality      testing_adequacy vaccination_coverage  \\\n",
      "0               0.0  Doing Enough Testing          Not Started   \n",
      "1               0.0  Doing Enough Testing          Not Started   \n",
      "2               0.0  Doing Enough Testing          Not Started   \n",
      "3               0.0  Doing Enough Testing          Not Started   \n",
      "4               0.0  Doing Enough Testing          Not Started   \n",
      "5               0.0  Doing Enough Testing          Not Started   \n",
      "6               0.0  Doing Enough Testing          Not Started   \n",
      "7               0.0  Doing Enough Testing          Not Started   \n",
      "8               0.0  Doing Enough Testing          Not Started   \n",
      "9               0.0  Doing Enough Testing          Not Started   \n",
      "\n",
      "  healthcare_capacity  \n",
      "0  Low (<3 beds/1000)  \n",
      "1  Low (<3 beds/1000)  \n",
      "2  Low (<3 beds/1000)  \n",
      "3  Low (<3 beds/1000)  \n",
      "4  Low (<3 beds/1000)  \n",
      "5  Low (<3 beds/1000)  \n",
      "6  Low (<3 beds/1000)  \n",
      "7  Low (<3 beds/1000)  \n",
      "8  Low (<3 beds/1000)  \n",
      "9  Low (<3 beds/1000)  \n"
     ]
    }
   ],
   "source": [
    "# Show sample of new columns\n",
    "print(\"\\nSample of derived metrics:\")\n",
    "sample_cols = ['excess_mortality', 'testing_adequacy', 'vaccination_coverage', 'healthcare_capacity']\n",
    "print(df[sample_cols].head(10))"
   ]
  },
  {
   "cell_type": "markdown",
   "id": "0155206b-24cc-4b24-837b-7acc4682e426",
   "metadata": {},
   "source": [
    "STEP 16: Basic \"Fact Checking\" (Statistical Tests)"
   ]
  },
  {
   "cell_type": "markdown",
   "id": "1e2ea96b-f018-49bf-994e-c858dcc4e355",
   "metadata": {},
   "source": [
    "We're checking if our observations are real patterns or just random:"
   ]
  },
  {
   "cell_type": "code",
   "execution_count": 69,
   "id": "2a37bc13-f753-4815-851a-13abd9e48e10",
   "metadata": {},
   "outputs": [
    {
     "name": "stdout",
     "output_type": "stream",
     "text": [
      "📊 Got the latest data for each country\n"
     ]
    }
   ],
   "source": [
    "# SECTION 1: Get the latest data for each country\n",
    "latest = df.sort_values('date').groupby('location').last().reset_index()\n",
    "print(\"📊 Got the latest data for each country\")"
   ]
  },
  {
   "cell_type": "code",
   "execution_count": 70,
   "id": "ad46e043-b797-4ed6-a5d2-786f5cf47f76",
   "metadata": {},
   "outputs": [
    {
     "name": "stdout",
     "output_type": "stream",
     "text": [
      "1. DESCRIPTIVE STATISTICS FOR KEY METRICS:\n",
      "\n",
      "--- total_cases_per_million ---\n",
      "Mean: 192160.10\n",
      "Median: 124756.13\n",
      "Std Dev: 197344.34\n",
      "Min: 0.00\n",
      "Max: 731762.14\n",
      "\n",
      "--- total_deaths_per_million ---\n",
      "Mean: 1189.04\n",
      "Median: 755.81\n",
      "Std Dev: 1286.57\n",
      "Min: 0.00\n",
      "Max: 6457.23\n",
      "\n",
      "--- hospital_beds_per_thousand ---\n",
      "Mean: 2.19\n",
      "Median: 1.40\n",
      "Std Dev: 2.58\n",
      "Min: 0.00\n",
      "Max: 13.80\n",
      "\n",
      "--- stringency_index ---\n",
      "Mean: 0.00\n",
      "Median: 0.00\n",
      "Std Dev: 0.00\n",
      "Min: 0.00\n",
      "Max: 0.00\n",
      "\n",
      "--- people_fully_vaccinated_per_hundred ---\n",
      "Mean: 4.46\n",
      "Median: 0.00\n",
      "Std Dev: 18.12\n",
      "Min: 0.00\n",
      "Max: 92.36\n"
     ]
    }
   ],
   "source": [
    "\n",
    "print(\"1. DESCRIPTIVE STATISTICS FOR KEY METRICS:\")\n",
    "key_metrics = ['total_cases_per_million', 'total_deaths_per_million', 'mortality_rate', \n",
    "               'hospital_beds_per_thousand', 'stringency_index', 'people_fully_vaccinated_per_hundred']\n",
    "\n",
    "for metric in key_metrics:\n",
    "    if metric in latest_data.columns:\n",
    "        print(f\"\\n--- {metric} ---\")\n",
    "        print(f\"Mean: {latest_data[metric].mean():.2f}\")\n",
    "        print(f\"Median: {latest_data[metric].median():.2f}\")\n",
    "        print(f\"Std Dev: {latest_data[metric].std():.2f}\")\n",
    "        print(f\"Min: {latest_data[metric].min():.2f}\")\n",
    "        print(f\"Max: {latest_data[metric].max():.2f}\")\n",
    "\n"
   ]
  },
  {
   "cell_type": "markdown",
   "id": "50b36beb-6994-48f7-8c92-3277c2ffcf65",
   "metadata": {},
   "source": []
  },
  {
   "cell_type": "code",
   "execution_count": 71,
   "id": "062e7d10-82ac-479b-9344-3ac73b414d95",
   "metadata": {},
   "outputs": [
    {
     "name": "stdout",
     "output_type": "stream",
     "text": [
      "\n",
      "2. CONTINENTAL COMPARISONS:\n"
     ]
    }
   ],
   "source": [
    "print(\"\\n2. CONTINENTAL COMPARISONS:\")\n",
    "# Compare averages by continent\n",
    "continental_stats = latest_data.groupby('continent').agg({\n",
    "    'total_cases_per_million': 'mean',\n",
    "    'total_deaths_per_million': 'mean', \n",
    "    'excess_mortality': 'mean',\n",
    "    'people_fully_vaccinated_per_hundred': 'mean',\n",
    "    'stringency_index': 'mean'\n",
    "}).round(2)"
   ]
  },
  {
   "cell_type": "code",
   "execution_count": 72,
   "id": "0c637b43-c611-4701-93e8-b1b1404ccd3a",
   "metadata": {},
   "outputs": [
    {
     "name": "stdout",
     "output_type": "stream",
     "text": [
      "Average values by continent:\n",
      "               total_cases_per_million  total_deaths_per_million  \\\n",
      "continent                                                          \n",
      "Africa                        45403.60                    310.96   \n",
      "Asia                         128275.94                    627.64   \n",
      "Europe                       367332.65                   2396.34   \n",
      "North America                229274.35                   1503.34   \n",
      "Oceania                      223296.01                    516.98   \n",
      "South America                182626.72                   2360.54   \n",
      "\n",
      "               excess_mortality  people_fully_vaccinated_per_hundred  \\\n",
      "continent                                                              \n",
      "Africa                      0.0                                 0.00   \n",
      "Asia                        0.0                                10.21   \n",
      "Europe                      0.0                                 5.87   \n",
      "North America               0.0                                 1.93   \n",
      "Oceania                     0.0                                 0.00   \n",
      "South America               0.0                                11.53   \n",
      "\n",
      "               stringency_index  \n",
      "continent                        \n",
      "Africa                      0.0  \n",
      "Asia                        0.0  \n",
      "Europe                      0.0  \n",
      "North America               0.0  \n",
      "Oceania                     0.0  \n",
      "South America               0.0  \n"
     ]
    }
   ],
   "source": [
    "print(\"Average values by continent:\")\n",
    "print(continental_stats)"
   ]
  },
  {
   "cell_type": "code",
   "execution_count": 73,
   "id": "db309c89-494a-45bd-842b-5d6e82c96458",
   "metadata": {},
   "outputs": [
    {
     "name": "stdout",
     "output_type": "stream",
     "text": [
      "\n",
      "3. CORRELATION ANALYSIS:\n",
      "Correlation matrix (strong relationships > |0.5|):\n",
      "                                     total_cases_per_million  \\\n",
      "total_cases_per_million                                1.000   \n",
      "total_deaths_per_million                               0.475   \n",
      "excess_mortality                                         NaN   \n",
      "hospital_beds_per_thousand                             0.236   \n",
      "median_age                                             0.107   \n",
      "stringency_index                                         NaN   \n",
      "people_fully_vaccinated_per_hundred                   -0.006   \n",
      "\n",
      "                                     total_deaths_per_million  \\\n",
      "total_cases_per_million                                 0.475   \n",
      "total_deaths_per_million                                1.000   \n",
      "excess_mortality                                          NaN   \n",
      "hospital_beds_per_thousand                              0.364   \n",
      "median_age                                              0.431   \n",
      "stringency_index                                          NaN   \n",
      "people_fully_vaccinated_per_hundred                     0.074   \n",
      "\n",
      "                                     excess_mortality  \\\n",
      "total_cases_per_million                           NaN   \n",
      "total_deaths_per_million                          NaN   \n",
      "excess_mortality                                  NaN   \n",
      "hospital_beds_per_thousand                        NaN   \n",
      "median_age                                        NaN   \n",
      "stringency_index                                  NaN   \n",
      "people_fully_vaccinated_per_hundred               NaN   \n",
      "\n",
      "                                     hospital_beds_per_thousand  median_age  \\\n",
      "total_cases_per_million                                   0.236       0.107   \n",
      "total_deaths_per_million                                  0.364       0.431   \n",
      "excess_mortality                                            NaN         NaN   \n",
      "hospital_beds_per_thousand                                1.000       0.477   \n",
      "median_age                                                0.477       1.000   \n",
      "stringency_index                                            NaN         NaN   \n",
      "people_fully_vaccinated_per_hundred                      -0.022       0.146   \n",
      "\n",
      "                                     stringency_index  \\\n",
      "total_cases_per_million                           NaN   \n",
      "total_deaths_per_million                          NaN   \n",
      "excess_mortality                                  NaN   \n",
      "hospital_beds_per_thousand                        NaN   \n",
      "median_age                                        NaN   \n",
      "stringency_index                                  NaN   \n",
      "people_fully_vaccinated_per_hundred               NaN   \n",
      "\n",
      "                                     people_fully_vaccinated_per_hundred  \n",
      "total_cases_per_million                                           -0.006  \n",
      "total_deaths_per_million                                           0.074  \n",
      "excess_mortality                                                     NaN  \n",
      "hospital_beds_per_thousand                                        -0.022  \n",
      "median_age                                                         0.146  \n",
      "stringency_index                                                     NaN  \n",
      "people_fully_vaccinated_per_hundred                                1.000  \n"
     ]
    }
   ],
   "source": [
    "print(\"\\n3. CORRELATION ANALYSIS:\")\n",
    "# Calculate correlations between key variables\n",
    "correlation_vars = ['total_cases_per_million', 'total_deaths_per_million', 'excess_mortality',\n",
    "                   'hospital_beds_per_thousand', 'median_age', 'stringency_index',\n",
    "                   'people_fully_vaccinated_per_hundred']\n",
    "\n",
    "corr_matrix = latest_data[correlation_vars].corr()\n",
    "\n",
    "print(\"Correlation matrix (strong relationships > |0.5|):\")\n",
    "print(corr_matrix.round(3))\n"
   ]
  },
  {
   "cell_type": "code",
   "execution_count": 74,
   "id": "4470f6ce-6f8a-4c20-be06-99b1e0db8e27",
   "metadata": {},
   "outputs": [
    {
     "name": "stdout",
     "output_type": "stream",
     "text": [
      "\n",
      "Strong correlations (> 0.5):\n",
      "Series([], dtype: float64)\n"
     ]
    }
   ],
   "source": [
    "# Show only strong correlations\n",
    "strong_corrs = corr_matrix.unstack().sort_values(ascending=False)\n",
    "strong_corrs = strong_corrs[(abs(strong_corrs) > 0.5) & (strong_corrs < 1)]\n",
    "print(\"\\nStrong correlations (> 0.5):\")\n",
    "print(strong_corrs)"
   ]
  },
  {
   "cell_type": "code",
   "execution_count": 75,
   "id": "125277eb-b01c-4134-b75f-3a06d4332656",
   "metadata": {},
   "outputs": [
    {
     "name": "stdout",
     "output_type": "stream",
     "text": [
      "\n",
      "4. GROUP DIFFERENCES (T-TEST EXAMPLE):\n"
     ]
    }
   ],
   "source": [
    "print(\"\\n4. GROUP DIFFERENCES (T-TEST EXAMPLE):\")\n",
    "# Compare high vs low healthcare capacity countries\n",
    "high_capacity = latest_data[latest_data['hospital_beds_per_thousand'] >= 5]['excess_mortality']\n",
    "low_capacity = latest_data[latest_data['hospital_beds_per_thousand'] < 5]['excess_mortality']\n"
   ]
  },
  {
   "cell_type": "code",
   "execution_count": 76,
   "id": "93a8b7af-d0a7-496e-ac07-16c107d34715",
   "metadata": {},
   "outputs": [
    {
     "name": "stdout",
     "output_type": "stream",
     "text": [
      "Defaulting to user installation because normal site-packages is not writeable\n",
      "Requirement already satisfied: scipy in c:\\users\\cynthia\\appdata\\roaming\\python\\python313\\site-packages (1.16.2)\n",
      "Requirement already satisfied: numpy<2.6,>=1.25.2 in c:\\users\\cynthia\\appdata\\roaming\\python\\python313\\site-packages (from scipy) (2.3.3)\n"
     ]
    },
    {
     "name": "stderr",
     "output_type": "stream",
     "text": [
      "\n",
      "[notice] A new release of pip is available: 25.1.1 -> 25.2\n",
      "[notice] To update, run: python.exe -m pip install --upgrade pip\n"
     ]
    }
   ],
   "source": [
    "!pip install scipy\n",
    "from scipy import stats"
   ]
  },
  {
   "cell_type": "code",
   "execution_count": 77,
   "id": "361bee7f-f557-4f25-8b04-823873bedc1e",
   "metadata": {},
   "outputs": [
    {
     "name": "stdout",
     "output_type": "stream",
     "text": [
      "T-test: High vs Low capacity countries mortality rates\n",
      "High capacity countries (N=31): Mean mortality = 0.00%\n",
      "Low capacity countries (N=212): Mean mortality = 0.00%\n",
      "T-statistic: nan, P-value: nan\n",
      "❌ No significant difference\n"
     ]
    }
   ],
   "source": [
    "if len(high_capacity) > 1 and len(low_capacity) > 1:\n",
    "    t_stat, p_value = stats.ttest_ind(high_capacity.dropna(), low_capacity.dropna())\n",
    "    print(f\"T-test: High vs Low capacity countries mortality rates\")\n",
    "    print(f\"High capacity countries (N={len(high_capacity)}): Mean mortality = {high_capacity.mean():.2f}%\")\n",
    "    print(f\"Low capacity countries (N={len(low_capacity)}): Mean mortality = {low_capacity.mean():.2f}%\")\n",
    "    print(f\"T-statistic: {t_stat:.3f}, P-value: {p_value:.3f}\")\n",
    "    \n",
    "    if p_value < 0.05:\n",
    "        print(\"✅ Statistically significant difference (p < 0.05)\")\n",
    "    else:\n",
    "        print(\"❌ No significant difference\")\n",
    "else:\n",
    "    print(\"Insufficient data for t-test\")\n"
   ]
  },
  {
   "cell_type": "code",
   "execution_count": 78,
   "id": "1809ddf6-dff6-4b74-9c82-08c1b08c5fcf",
   "metadata": {},
   "outputs": [
    {
     "name": "stdout",
     "output_type": "stream",
     "text": [
      "\n",
      "5. VACCINATION EFFECTIVENESS ANALYSIS:\n",
      "High vaccination countries (≥60%): 13 countries\n",
      "Average cases/million: 197753\n",
      "Average deaths/million: 1543\n",
      "\n",
      "Low vaccination countries (<60%): 230 countries\n",
      "Average cases/million: 191844\n",
      "Average deaths/million: 1169\n"
     ]
    }
   ],
   "source": [
    "print(\"\\n5. VACCINATION EFFECTIVENESS ANALYSIS:\")\n",
    "# Compare countries with high vs low vaccination rates\n",
    "high_vax = latest_data[latest_data['people_fully_vaccinated_per_hundred'] >= 60]\n",
    "low_vax = latest_data[latest_data['people_fully_vaccinated_per_hundred'] < 60]\n",
    "\n",
    "if len(high_vax) > 0 and len(low_vax) > 0:\n",
    "    print(f\"High vaccination countries (≥60%): {len(high_vax)} countries\")\n",
    "    print(f\"Average cases/million: {high_vax['total_cases_per_million'].mean():.0f}\")\n",
    "    print(f\"Average deaths/million: {high_vax['total_deaths_per_million'].mean():.0f}\")\n",
    "    \n",
    "    print(f\"\\nLow vaccination countries (<60%): {len(low_vax)} countries\")\n",
    "    print(f\"Average cases/million: {low_vax['total_cases_per_million'].mean():.0f}\")\n",
    "    print(f\"Average deaths/million: {low_vax['total_deaths_per_million'].mean():.0f}\")\n",
    "    "
   ]
  },
  {
   "cell_type": "code",
   "execution_count": 79,
   "id": "45a63e31-3619-464f-aa13-884a49f5d015",
   "metadata": {},
   "outputs": [
    {
     "name": "stdout",
     "output_type": "stream",
     "text": [
      "\n",
      "Vaccination associated with:\n",
      "- -3.1% reduction in cases per million\n",
      "- -32.0% reduction in deaths per million\n"
     ]
    }
   ],
   "source": [
    "reduction_cases = (\n",
    "    (low_vax['total_cases_per_million'].mean() - \n",
    "     high_vax['total_cases_per_million'].mean()) \n",
    "    / low_vax['total_cases_per_million'].mean() * 100\n",
    ")\n",
    "\n",
    "reduction_deaths = (\n",
    "    (low_vax['total_deaths_per_million'].mean() - \n",
    "     high_vax['total_deaths_per_million'].mean()) \n",
    "    / low_vax['total_deaths_per_million'].mean() * 100\n",
    ")\n",
    "\n",
    "print(\"\\nVaccination associated with:\")\n",
    "print(f\"- {reduction_cases:.1f}% reduction in cases per million\")\n",
    "print(f\"- {reduction_deaths:.1f}% reduction in deaths per million\")\n"
   ]
  },
  {
   "cell_type": "code",
   "execution_count": 80,
   "id": "13d87847-d86c-4009-81a3-b44db1e22702",
   "metadata": {},
   "outputs": [
    {
     "name": "stdout",
     "output_type": "stream",
     "text": [
      "\n",
      "6. TIME TREND ANALYSIS:\n",
      "Yearly trends:\n",
      "        new_cases  new_deaths  people_fully_vaccinated_per_hundred  \\\n",
      "year                                                                 \n",
      "2020   82956627.0   1928751.0                                 0.00   \n",
      "2021  204178234.0   3522316.0                                 9.96   \n",
      "2022  445863292.0   1252726.0                                17.62   \n",
      "2023   30130105.0    195894.0                                10.36   \n",
      "\n",
      "      stringency_index  \n",
      "year                    \n",
      "2020             37.81  \n",
      "2021             38.46  \n",
      "2022             19.40  \n",
      "2023              0.00  \n",
      "\n",
      "new_cases Year-over-Year change:\n",
      "  2021: +146.1%\n",
      "  2022: +118.4%\n",
      "  2023: -93.2%\n",
      "\n",
      "new_deaths Year-over-Year change:\n",
      "  2021: +82.6%\n",
      "  2022: -64.4%\n",
      "  2023: -84.4%\n"
     ]
    }
   ],
   "source": [
    "print(\"\\n6. TIME TREND ANALYSIS:\")\n",
    "# Analyze how metrics changed over years\n",
    "yearly_trends = df.groupby('year').agg({\n",
    "    'new_cases': 'sum',\n",
    "    'new_deaths': 'sum',\n",
    "    'people_fully_vaccinated_per_hundred': 'mean',\n",
    "    'stringency_index': 'mean'\n",
    "}).round(2)\n",
    "\n",
    "print(\"Yearly trends:\")\n",
    "print(yearly_trends)\n",
    "\n",
    "# Calculate year-over-year changes\n",
    "for metric in ['new_cases', 'new_deaths']:\n",
    "    if metric in yearly_trends.columns:\n",
    "        yoy_change = (yearly_trends[metric].pct_change() * 100).round(1)\n",
    "        print(f\"\\n{metric} Year-over-Year change:\")\n",
    "        for year, change in yoy_change.items():\n",
    "            if not pd.isna(change):\n",
    "                print(f\"  {int(year)}: {change:+.1f}%\")"
   ]
  },
  {
   "cell_type": "markdown",
   "id": "08a32cbe-3cf5-483d-8bf0-24887af452d8",
   "metadata": {},
   "source": [
    "STEP 17: Saving Everything Neatly"
   ]
  },
  {
   "cell_type": "code",
   "execution_count": 81,
   "id": "392f7450-33dd-4cda-9bf0-5bbbf47d0558",
   "metadata": {},
   "outputs": [
    {
     "name": "stdout",
     "output_type": "stream",
     "text": [
      "💾 Saved: my_covid_analysis.csv\n",
      "🎉 DONE! Ready for the next step.\n"
     ]
    }
   ],
   "source": [
    "# Save our work\n",
    "df.to_csv('my_covid_analysis.csv', index=False)\n",
    "print(\"💾 Saved: my_covid_analysis.csv\")\n",
    "print(\"🎉 DONE! Ready for the next step.\")"
   ]
  },
  {
   "cell_type": "code",
   "execution_count": 82,
   "id": "27d5d55e-b457-4315-b0ec-582b864c3656",
   "metadata": {},
   "outputs": [
    {
     "name": "stdout",
     "output_type": "stream",
     "text": [
      "Defaulting to user installation because normal site-packages is not writeable\n",
      "Requirement already satisfied: streamlit in c:\\users\\cynthia\\appdata\\roaming\\python\\python313\\site-packages (1.50.0)\n",
      "Requirement already satisfied: altair!=5.4.0,!=5.4.1,<6,>=4.0 in c:\\users\\cynthia\\appdata\\roaming\\python\\python313\\site-packages (from streamlit) (5.5.0)\n",
      "Requirement already satisfied: blinker<2,>=1.5.0 in c:\\users\\cynthia\\appdata\\roaming\\python\\python313\\site-packages (from streamlit) (1.9.0)\n",
      "Requirement already satisfied: cachetools<7,>=4.0 in c:\\users\\cynthia\\appdata\\roaming\\python\\python313\\site-packages (from streamlit) (6.2.0)\n",
      "Requirement already satisfied: click<9,>=7.0 in c:\\users\\cynthia\\appdata\\roaming\\python\\python313\\site-packages (from streamlit) (8.2.1)\n",
      "Requirement already satisfied: numpy<3,>=1.23 in c:\\users\\cynthia\\appdata\\roaming\\python\\python313\\site-packages (from streamlit) (2.3.3)\n",
      "Requirement already satisfied: packaging<26,>=20 in c:\\users\\cynthia\\appdata\\roaming\\python\\python313\\site-packages (from streamlit) (25.0)\n",
      "Requirement already satisfied: pandas<3,>=1.4.0 in c:\\users\\cynthia\\appdata\\roaming\\python\\python313\\site-packages (from streamlit) (2.3.2)\n",
      "Requirement already satisfied: pillow<12,>=7.1.0 in c:\\users\\cynthia\\appdata\\roaming\\python\\python313\\site-packages (from streamlit) (11.3.0)\n",
      "Requirement already satisfied: protobuf<7,>=3.20 in c:\\users\\cynthia\\appdata\\roaming\\python\\python313\\site-packages (from streamlit) (6.32.1)\n",
      "Requirement already satisfied: pyarrow>=7.0 in c:\\users\\cynthia\\appdata\\roaming\\python\\python313\\site-packages (from streamlit) (21.0.0)\n",
      "Requirement already satisfied: requests<3,>=2.27 in c:\\users\\cynthia\\appdata\\roaming\\python\\python313\\site-packages (from streamlit) (2.32.5)\n",
      "Requirement already satisfied: tenacity<10,>=8.1.0 in c:\\users\\cynthia\\appdata\\roaming\\python\\python313\\site-packages (from streamlit) (9.1.2)\n",
      "Requirement already satisfied: toml<2,>=0.10.1 in c:\\users\\cynthia\\appdata\\roaming\\python\\python313\\site-packages (from streamlit) (0.10.2)\n",
      "Requirement already satisfied: typing-extensions<5,>=4.4.0 in c:\\users\\cynthia\\appdata\\roaming\\python\\python313\\site-packages (from streamlit) (4.15.0)\n",
      "Requirement already satisfied: watchdog<7,>=2.1.5 in c:\\users\\cynthia\\appdata\\roaming\\python\\python313\\site-packages (from streamlit) (6.0.0)\n",
      "Requirement already satisfied: gitpython!=3.1.19,<4,>=3.0.7 in c:\\users\\cynthia\\appdata\\roaming\\python\\python313\\site-packages (from streamlit) (3.1.45)\n",
      "Requirement already satisfied: pydeck<1,>=0.8.0b4 in c:\\users\\cynthia\\appdata\\roaming\\python\\python313\\site-packages (from streamlit) (0.9.1)\n",
      "Requirement already satisfied: tornado!=6.5.0,<7,>=6.0.3 in c:\\users\\cynthia\\appdata\\roaming\\python\\python313\\site-packages (from streamlit) (6.5.2)\n",
      "Requirement already satisfied: jinja2 in c:\\users\\cynthia\\appdata\\roaming\\python\\python313\\site-packages (from altair!=5.4.0,!=5.4.1,<6,>=4.0->streamlit) (3.1.6)\n",
      "Requirement already satisfied: jsonschema>=3.0 in c:\\users\\cynthia\\appdata\\roaming\\python\\python313\\site-packages (from altair!=5.4.0,!=5.4.1,<6,>=4.0->streamlit) (4.25.1)\n",
      "Requirement already satisfied: narwhals>=1.14.2 in c:\\users\\cynthia\\appdata\\roaming\\python\\python313\\site-packages (from altair!=5.4.0,!=5.4.1,<6,>=4.0->streamlit) (2.5.0)\n",
      "Requirement already satisfied: colorama in c:\\users\\cynthia\\appdata\\roaming\\python\\python313\\site-packages (from click<9,>=7.0->streamlit) (0.4.6)\n",
      "Requirement already satisfied: gitdb<5,>=4.0.1 in c:\\users\\cynthia\\appdata\\roaming\\python\\python313\\site-packages (from gitpython!=3.1.19,<4,>=3.0.7->streamlit) (4.0.12)\n",
      "Requirement already satisfied: smmap<6,>=3.0.1 in c:\\users\\cynthia\\appdata\\roaming\\python\\python313\\site-packages (from gitdb<5,>=4.0.1->gitpython!=3.1.19,<4,>=3.0.7->streamlit) (5.0.2)\n",
      "Requirement already satisfied: python-dateutil>=2.8.2 in c:\\users\\cynthia\\appdata\\roaming\\python\\python313\\site-packages (from pandas<3,>=1.4.0->streamlit) (2.9.0.post0)\n",
      "Requirement already satisfied: pytz>=2020.1 in c:\\users\\cynthia\\appdata\\roaming\\python\\python313\\site-packages (from pandas<3,>=1.4.0->streamlit) (2025.2)\n",
      "Requirement already satisfied: tzdata>=2022.7 in c:\\users\\cynthia\\appdata\\roaming\\python\\python313\\site-packages (from pandas<3,>=1.4.0->streamlit) (2025.2)\n",
      "Requirement already satisfied: charset_normalizer<4,>=2 in c:\\users\\cynthia\\appdata\\roaming\\python\\python313\\site-packages (from requests<3,>=2.27->streamlit) (3.4.3)\n",
      "Requirement already satisfied: idna<4,>=2.5 in c:\\users\\cynthia\\appdata\\roaming\\python\\python313\\site-packages (from requests<3,>=2.27->streamlit) (3.10)\n",
      "Requirement already satisfied: urllib3<3,>=1.21.1 in c:\\users\\cynthia\\appdata\\roaming\\python\\python313\\site-packages (from requests<3,>=2.27->streamlit) (2.5.0)\n",
      "Requirement already satisfied: certifi>=2017.4.17 in c:\\users\\cynthia\\appdata\\roaming\\python\\python313\\site-packages (from requests<3,>=2.27->streamlit) (2025.8.3)\n",
      "Requirement already satisfied: MarkupSafe>=2.0 in c:\\users\\cynthia\\appdata\\roaming\\python\\python313\\site-packages (from jinja2->altair!=5.4.0,!=5.4.1,<6,>=4.0->streamlit) (3.0.2)\n",
      "Requirement already satisfied: attrs>=22.2.0 in c:\\users\\cynthia\\appdata\\roaming\\python\\python313\\site-packages (from jsonschema>=3.0->altair!=5.4.0,!=5.4.1,<6,>=4.0->streamlit) (25.3.0)\n",
      "Requirement already satisfied: jsonschema-specifications>=2023.03.6 in c:\\users\\cynthia\\appdata\\roaming\\python\\python313\\site-packages (from jsonschema>=3.0->altair!=5.4.0,!=5.4.1,<6,>=4.0->streamlit) (2025.9.1)\n",
      "Requirement already satisfied: referencing>=0.28.4 in c:\\users\\cynthia\\appdata\\roaming\\python\\python313\\site-packages (from jsonschema>=3.0->altair!=5.4.0,!=5.4.1,<6,>=4.0->streamlit) (0.36.2)\n",
      "Requirement already satisfied: rpds-py>=0.7.1 in c:\\users\\cynthia\\appdata\\roaming\\python\\python313\\site-packages (from jsonschema>=3.0->altair!=5.4.0,!=5.4.1,<6,>=4.0->streamlit) (0.27.1)\n",
      "Requirement already satisfied: six>=1.5 in c:\\users\\cynthia\\appdata\\roaming\\python\\python313\\site-packages (from python-dateutil>=2.8.2->pandas<3,>=1.4.0->streamlit) (1.17.0)\n"
     ]
    },
    {
     "name": "stderr",
     "output_type": "stream",
     "text": [
      "\n",
      "[notice] A new release of pip is available: 25.1.1 -> 25.2\n",
      "[notice] To update, run: python.exe -m pip install --upgrade pip\n"
     ]
    }
   ],
   "source": [
    "!pip install streamlit\n"
   ]
  },
  {
   "cell_type": "code",
   "execution_count": null,
   "id": "ed6c86f1-e154-4be7-838c-22bbe8ca1da8",
   "metadata": {},
   "outputs": [],
   "source": []
  }
 ],
 "metadata": {
  "kernelspec": {
   "display_name": "Python 3 (ipykernel)",
   "language": "python",
   "name": "python3"
  },
  "language_info": {
   "codemirror_mode": {
    "name": "ipython",
    "version": 3
   },
   "file_extension": ".py",
   "mimetype": "text/x-python",
   "name": "python",
   "nbconvert_exporter": "python",
   "pygments_lexer": "ipython3",
   "version": "3.13.5"
  }
 },
 "nbformat": 4,
 "nbformat_minor": 5
}
